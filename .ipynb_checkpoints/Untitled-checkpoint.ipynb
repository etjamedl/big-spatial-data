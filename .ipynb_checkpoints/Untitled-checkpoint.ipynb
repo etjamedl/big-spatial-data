{
 "cells": [
  {
   "cell_type": "code",
   "execution_count": 3,
   "metadata": {},
   "outputs": [],
   "source": [
    "import os, os.path\n",
    "import sys\n",
    "import ogr, gdal\n",
    "import numpy as np"
   ]
  },
  {
   "cell_type": "code",
   "execution_count": null,
   "metadata": {},
   "outputs": [],
   "source": []
  },
  {
   "cell_type": "code",
   "execution_count": 5,
   "metadata": {},
   "outputs": [],
   "source": [
    "lufile = r'/Users/xiaojiang/Downloads/data/ground_dsm/row5-col0.tif'\n",
    "cityboundary = r'/Users/xiaojiang/Dropbox (Personal)/xiaojiang/Research/Thermal-env/data/miami/spatial-data/city_limit.shp'\n",
    "\n",
    "# #for the tiles outside of the study area, the lu info would be zero\n",
    "gdal_lu = gdal.Open(lufile, gdal.GA_ReadOnly)\n",
    "luimg = gdal_lu.ReadAsArray().astype(np.float)\n",
    "# if np.max(luimg) < 1: \n",
    "#     print(\"This tile dosn't cover the study area\")\n",
    "#     continue\n",
    "\n",
    "\n",
    "# judge if the raster tile overlaps with the city boundary\n",
    "# gdal_lu = gdal.Open('sample.tif')\n",
    "vector = ogr.Open(cityboundary)\n",
    "\n",
    "# Get raster geometry,  north up images the GT(2) and GT(4) coefficients are zero, and the GT(1) is pixel width, and GT(5) is pixel height. The (GT(0),GT(3)) position is the top left corner of the top left pixel of the raster.\n",
    "transform = gdal_lu.GetGeoTransform()\n",
    "pixelWidth = transform[1]\n",
    "pixelHeight = transform[5]\n",
    "cols = gdal_lu.RasterXSize\n",
    "rows = gdal_lu.RasterYSize\n",
    "\n",
    "xLeft = transform[0]\n",
    "yTop = transform[3]\n",
    "xRight = xLeft+cols*pixelWidth\n",
    "yBottom = yTop+rows*pixelHeight\n"
   ]
  },
  {
   "cell_type": "code",
   "execution_count": 20,
   "metadata": {},
   "outputs": [
    {
     "data": {
      "text/plain": [
       "-3.0"
      ]
     },
     "execution_count": 20,
     "metadata": {},
     "output_type": "execute_result"
    }
   ],
   "source": [
    "pixelHeight"
   ]
  },
  {
   "cell_type": "code",
   "execution_count": 6,
   "metadata": {},
   "outputs": [
    {
     "name": "stdout",
     "output_type": "stream",
     "text": [
      "xLeft, xRight, yTop, yBottom 879974.2785446071 885974.2785446071 525932.150769776 533732.150769776\n"
     ]
    }
   ],
   "source": [
    "\n",
    "# watch out the order to the four point\n",
    "ring = ogr.Geometry(ogr.wkbLinearRing)\n",
    "ring.AddPoint(xLeft, yTop)\n",
    "ring.AddPoint(xLeft, yBottom)\n",
    "ring.AddPoint(xRight, yBottom)\n",
    "ring.AddPoint(xRight, yTop) # this was wrong been corrected, topleft->bottomleft->rightbuttom->righttop\n",
    "ring.AddPoint(xLeft, yTop)\n",
    "rasterGeometry = ogr.Geometry(ogr.wkbPolygon)\n",
    "rasterGeometry.AddGeometry(ring)\n",
    "print('xLeft, xRight, yTop, yBottom', xLeft, xRight, yTop, yBottom)\n",
    "\n"
   ]
  },
  {
   "cell_type": "code",
   "execution_count": 10,
   "metadata": {},
   "outputs": [
    {
     "data": {
      "text/plain": [
       "osgeo.ogr.Geometry"
      ]
     },
     "execution_count": 10,
     "metadata": {},
     "output_type": "execute_result"
    }
   ],
   "source": [
    "type(rasterGeometry)"
   ]
  },
  {
   "cell_type": "code",
   "execution_count": null,
   "metadata": {},
   "outputs": [],
   "source": []
  },
  {
   "cell_type": "code",
   "execution_count": null,
   "metadata": {},
   "outputs": [],
   "source": []
  },
  {
   "cell_type": "code",
   "execution_count": 11,
   "metadata": {},
   "outputs": [
    {
     "name": "stdout",
     "output_type": "stream",
     "text": [
      "1\n",
      "bound is: (880056.8246596683, 938993.2140360711, 500599.5959523406, 554132.4108297551)\n",
      "False\n"
     ]
    }
   ],
   "source": [
    "# Get vector geometry\n",
    "layer = vector.GetLayer()\n",
    "# loop all the features (the city bound may have may small polygons), make sure it is not intersected with any feat\n",
    "for i in range(0, layer.GetFeatureCount()):\n",
    "    feature = layer.GetFeature(i)\n",
    "    print(feature.GetField(0))\n",
    "    vectorGeometry = feature.GetGeometryRef()\n",
    "    print('bound is:', feature.GetGeometryRef().GetEnvelope())\n",
    "    \n",
    "    print(rasterGeometry.Intersect(vectorGeometry))\n",
    "    \n",
    "#     if rasterGeometry.Intersect(vectorGeometry):\n",
    "#         print('Intersect, keep running')\n",
    "\n",
    "#         chm_folder = os.path.join(root, 'chm')\n",
    "#         if not os.path.exists(chm_folder): os.mkdir(chm_folder)\n",
    "            \n",
    "#         groundfile = os.path.join(ground_dsm_folder, file)\n",
    "#         chmfile = os.path.join(chm_folder, file)\n"
   ]
  },
  {
   "cell_type": "code",
   "execution_count": null,
   "metadata": {},
   "outputs": [],
   "source": []
  },
  {
   "cell_type": "code",
   "execution_count": 16,
   "metadata": {},
   "outputs": [
    {
     "data": {
      "text/plain": [
       "(880056.8246596683, 938993.2140360711, 500599.5959523406, 554132.4108297551)"
      ]
     },
     "execution_count": 16,
     "metadata": {},
     "output_type": "execute_result"
    }
   ],
   "source": [
    "feature.GetGeometryRef().GetEnvelope()"
   ]
  },
  {
   "cell_type": "code",
   "execution_count": 17,
   "metadata": {},
   "outputs": [
    {
     "data": {
      "text/plain": [
       "osgeo.ogr.Geometry"
      ]
     },
     "execution_count": 17,
     "metadata": {},
     "output_type": "execute_result"
    }
   ],
   "source": [
    "type(vectorGeometry)"
   ]
  },
  {
   "cell_type": "code",
   "execution_count": 19,
   "metadata": {},
   "outputs": [
    {
     "name": "stdout",
     "output_type": "stream",
     "text": [
      "xLeft, xRight, yTop, yBottom 879974.2785446071 885974.2785446071 525932.150769776 533732.150769776\n"
     ]
    }
   ],
   "source": [
    "print('xLeft, xRight, yTop, yBottom', xLeft, xRight, yTop, yBottom)\n"
   ]
  },
  {
   "cell_type": "code",
   "execution_count": null,
   "metadata": {},
   "outputs": [],
   "source": []
  },
  {
   "cell_type": "code",
   "execution_count": null,
   "metadata": {},
   "outputs": [],
   "source": []
  }
 ],
 "metadata": {
  "kernelspec": {
   "display_name": "Python 3",
   "language": "python",
   "name": "python3"
  },
  "language_info": {
   "codemirror_mode": {
    "name": "ipython",
    "version": 3
   },
   "file_extension": ".py",
   "mimetype": "text/x-python",
   "name": "python",
   "nbconvert_exporter": "python",
   "pygments_lexer": "ipython3",
   "version": "3.7.7"
  }
 },
 "nbformat": 4,
 "nbformat_minor": 4
}
