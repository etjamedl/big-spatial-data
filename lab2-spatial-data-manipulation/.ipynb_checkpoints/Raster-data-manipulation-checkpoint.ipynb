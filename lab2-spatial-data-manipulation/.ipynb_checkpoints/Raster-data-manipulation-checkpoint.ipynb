{
 "cells": [
  {
   "cell_type": "markdown",
   "metadata": {},
   "source": [
    "### Overlay shapefile on raster data\n",
    "\n",
    "https://www.earthdatascience.org/workshops/gis-open-source-python/crop-raster-data-in-python/"
   ]
  },
  {
   "cell_type": "code",
   "execution_count": null,
   "metadata": {},
   "outputs": [],
   "source": []
  },
  {
   "cell_type": "code",
   "execution_count": null,
   "metadata": {},
   "outputs": [],
   "source": [
    "import os\n",
    "import numpy as np\n",
    "import rasterio as rio\n",
    "from rasterio.plot import show\n",
    "from rasterio.mask import mask\n",
    "from shapely.geometry import mapping\n",
    "import matplotlib.pyplot as plt\n",
    "import geopandas as gpd\n",
    "import earthpy as et\n",
    "import earthpy.plot as ep\n",
    "import earthpy.spatial as es\n",
    "import cartopy as cp\n",
    "\n",
    "# set home directory and download data\n",
    "et.data.get_data(\"spatial-vector-lidar\")\n",
    "os.chdir(os.path.join(et.io.HOME, 'earth-analytics'))\n",
    "\n",
    "# optional - turn off warnings\n",
    "import warnings\n",
    "warnings.filterwarnings('ignore')"
   ]
  },
  {
   "cell_type": "code",
   "execution_count": null,
   "metadata": {},
   "outputs": [],
   "source": []
  },
  {
   "cell_type": "code",
   "execution_count": null,
   "metadata": {},
   "outputs": [],
   "source": []
  },
  {
   "cell_type": "code",
   "execution_count": 1,
   "metadata": {
    "scrolled": true
   },
   "outputs": [
    {
     "ename": "NameError",
     "evalue": "name 'rio' is not defined",
     "output_type": "error",
     "traceback": [
      "\u001b[0;31m---------------------------------------------------------------------------\u001b[0m",
      "\u001b[0;31mNameError\u001b[0m                                 Traceback (most recent call last)",
      "\u001b[0;32m<ipython-input-1-18ad0484020f>\u001b[0m in \u001b[0;36m<module>\u001b[0;34m\u001b[0m\n\u001b[1;32m      1\u001b[0m \u001b[0msoap_chm_path\u001b[0m \u001b[0;34m=\u001b[0m \u001b[0;34m'data/spatial-vector-lidar/california/neon-soap-site/2013/lidar/SOAP_lidarCHM.tif'\u001b[0m\u001b[0;34m\u001b[0m\u001b[0;34m\u001b[0m\u001b[0m\n\u001b[1;32m      2\u001b[0m \u001b[0;31m# open the lidar chm\u001b[0m\u001b[0;34m\u001b[0m\u001b[0;34m\u001b[0m\u001b[0;34m\u001b[0m\u001b[0m\n\u001b[0;32m----> 3\u001b[0;31m \u001b[0;32mwith\u001b[0m \u001b[0mrio\u001b[0m\u001b[0;34m.\u001b[0m\u001b[0mopen\u001b[0m\u001b[0;34m(\u001b[0m\u001b[0msoap_chm_path\u001b[0m\u001b[0;34m)\u001b[0m \u001b[0;32mas\u001b[0m \u001b[0msrc\u001b[0m\u001b[0;34m:\u001b[0m\u001b[0;34m\u001b[0m\u001b[0;34m\u001b[0m\u001b[0m\n\u001b[0m\u001b[1;32m      4\u001b[0m     \u001b[0mlidar_chm_im\u001b[0m \u001b[0;34m=\u001b[0m \u001b[0msrc\u001b[0m\u001b[0;34m.\u001b[0m\u001b[0mread\u001b[0m\u001b[0;34m(\u001b[0m\u001b[0mmasked\u001b[0m\u001b[0;34m=\u001b[0m\u001b[0;32mTrue\u001b[0m\u001b[0;34m)\u001b[0m\u001b[0;34m[\u001b[0m\u001b[0;36m0\u001b[0m\u001b[0;34m]\u001b[0m\u001b[0;34m\u001b[0m\u001b[0;34m\u001b[0m\u001b[0m\n\u001b[1;32m      5\u001b[0m     \u001b[0mextent\u001b[0m \u001b[0;34m=\u001b[0m \u001b[0mrio\u001b[0m\u001b[0;34m.\u001b[0m\u001b[0mplot\u001b[0m\u001b[0;34m.\u001b[0m\u001b[0mplotting_extent\u001b[0m\u001b[0;34m(\u001b[0m\u001b[0msrc\u001b[0m\u001b[0;34m)\u001b[0m\u001b[0;34m\u001b[0m\u001b[0;34m\u001b[0m\u001b[0m\n",
      "\u001b[0;31mNameError\u001b[0m: name 'rio' is not defined"
     ]
    }
   ],
   "source": [
    "soap_chm_path = 'data/spatial-vector-lidar/california/neon-soap-site/2013/lidar/SOAP_lidarCHM.tif'\n",
    "# open the lidar chm\n",
    "with rio.open(soap_chm_path) as src:\n",
    "    lidar_chm_im = src.read(masked=True)[0]\n",
    "    extent = rio.plot.plotting_extent(src)\n",
    "    soap_profile = src.profile\n",
    "\n",
    "ep.plot_bands(lidar_chm_im,\n",
    "               cmap='terrain',\n",
    "               extent=extent,\n",
    "               title=\"Lidar Canopy Height Model (CHM)\\n NEON SOAP Field Site\",\n",
    "               cbar=False);"
   ]
  },
  {
   "cell_type": "code",
   "execution_count": null,
   "metadata": {},
   "outputs": [],
   "source": []
  },
  {
   "cell_type": "markdown",
   "metadata": {},
   "source": [
    "### Calculate the NDVI from NAIP image"
   ]
  },
  {
   "cell_type": "code",
   "execution_count": null,
   "metadata": {},
   "outputs": [],
   "source": []
  },
  {
   "cell_type": "code",
   "execution_count": null,
   "metadata": {},
   "outputs": [],
   "source": []
  },
  {
   "cell_type": "markdown",
   "metadata": {},
   "source": [
    "### Save the NDVI as a new TIFF image"
   ]
  },
  {
   "cell_type": "code",
   "execution_count": null,
   "metadata": {},
   "outputs": [],
   "source": []
  },
  {
   "cell_type": "code",
   "execution_count": null,
   "metadata": {},
   "outputs": [],
   "source": []
  },
  {
   "cell_type": "markdown",
   "metadata": {},
   "source": [
    "### Overlay shapefile on raster data\n",
    "Zonal statistics of raster data "
   ]
  },
  {
   "cell_type": "code",
   "execution_count": null,
   "metadata": {},
   "outputs": [],
   "source": [
    "import fiona\n",
    "import shapely\n",
    "from shapely.geometry import shape\n",
    "import rasterio\n",
    "import rasterio.mask\n",
    "import os, os.path\n",
    "import numpy as np\n",
    "\n",
    "\n",
    "root = '../../../data/philadelphia'\n",
    "mrt_raster = os.path.join(root, 'mosaciedMRT.tif') #MRT_phily-2272.tif\n",
    "lu_raster = os.path.join(root, 'lu_phily.tif')\n",
    "chm_raster = os.path.join(root, 'mosaicCHM.tif')\n",
    "dsm_raster = os.path.join(root, 'mosaicGroundDSM.tif')\n",
    "dem_raster = os.path.join(root, 'mosaicDEM.tif')\n",
    "\n",
    "\n",
    "input_zone_polygon = os.path.join(root, 'spatial-data/census-tract-data-2272.shp')\n",
    "# output_shp_res = os.path.join(root, 'spatial-data/mrt_census_tract_withbuilding.shp')\n",
    "output_shp_res = os.path.join(root, 'spatial-data/mrt_census_tract.shp')\n",
    "\n",
    "\n",
    "# Open the raster datasets\n",
    "mrt_dataset = rasterio.open(mrt_raster)\n",
    "lu_dataset = rasterio.open(lu_raster)\n",
    "chm_dataset = rasterio.open(chm_raster)\n",
    "dsm_dataset = rasterio.open(dsm_raster)\n",
    "dem_dataset = rasterio.open(dem_raster)\n",
    "\n",
    "\n",
    "# Prepare the polygon shapefile and then do the overlay of the raster data and the vector data\n",
    "lyr = fiona.open(input_zone_polygon)\n",
    "schema = lyr.schema\n",
    "# schema['properties']['mrt'] = 'float'\n",
    "schema['properties']['vegcov'] = 'float'\n",
    "schema['properties']['chm'] = 'float'\n",
    "schema['properties']['bdHt'] = 'float'\n",
    "schema['properties']['imper'] = 'float'\n",
    "\n",
    "with fiona.open(output_shp_res, 'w', driver = \"ESRI Shapefile\", crs = lyr.crs, schema=schema) as output:\n",
    "    for idx, feat in enumerate(lyr):\n",
    "        props = feat['properties']\n",
    "        geom = feat['geometry']\n",
    "        shape = [geom] # the rasterio need the list, therefore, create a list\n",
    "        \n",
    "        # mask the raster using the polygon\n",
    "        outMRT_image, out_transform = rasterio.mask.mask(mrt_dataset, shape, crop=True)\n",
    "        outLU_image, out_transform = rasterio.mask.mask(lu_dataset, shape, crop=True)\n",
    "        outCHM_image, out_transform = rasterio.mask.mask(chm_dataset, shape, crop=True)\n",
    "        outDSM_image, out_transform = rasterio.mask.mask(dsm_dataset, shape, crop=True)\n",
    "        outDEM_image, out_transform = rasterio.mask.mask(dem_dataset, shape, crop=True)\n",
    "        \n",
    "        #print(np.max(outMRT_image), np.min(outMRT_image), np.max(outLU_image), np.min(outLU_image))\n",
    "        \n",
    "        # after mask operation, the mrt and lu may have different dimensions\n",
    "        height = min(outMRT_image.shape[1], outLU_image.shape[1], outCHM_image.shape[1], outDSM_image.shape[1], outDEM_image.shape[1])\n",
    "        width = min(outMRT_image.shape[2], outLU_image.shape[2], outCHM_image.shape[2], outDSM_image.shape[2], outDEM_image.shape[2])\n",
    "        \n",
    "        outMRT_image = outMRT_image[0, 0:height-1, 0:width-1]\n",
    "        outLU_image = outLU_image[0, 0:height-1, 0:width-1]\n",
    "        outCHM_image = outCHM_image[0, 0:height-1, 0:width-1]\n",
    "        outDSM_image = outDSM_image[0, 0:height-1, 0:width-1]\n",
    "        outDEM_image = outDEM_image[0, 0:height-1, 0:width-1]\n",
    "        \n",
    "        ## calculate the percentage of MRT, canopy height, vegetation cover, building height \n",
    "        \n",
    "        # in the land use map, tree 1, grass2, building: 5, water: 4\n",
    "        outMRT_image[outMRT_image < 0] = 0\n",
    "        outMRT_image[outLU_image == 5] = 0\n",
    "        outMRT_image[outLU_image == 255] = 0\n",
    "        # calculate the mean MRT for all pixels in each census tract\n",
    "        #mean_val = np.sum(outMRT_image)/np.count_nonzero(outMRT_image)\n",
    "        \n",
    "        # average building height\n",
    "        outDSM_image[outDSM_image < 0] = 0\n",
    "        outDEM_image[outDEM_image < 0] = 0\n",
    "        nDSM = outDSM_image - outDEM_image\n",
    "        nDSM[nDSM < 0] = 0\n",
    "        nDSM[outLU_image != 5] = 0\n",
    "        mean_ndsm = np.sum(nDSM)/np.count_nonzero(nDSM)\n",
    "        \n",
    "        # the average canopy height\n",
    "        outCHM_image[outCHM_image < 0] = 0\n",
    "        mean_chm = np.sum(outCHM_image)/np.count_nonzero(outCHM_image)\n",
    "        \n",
    "        # impervious surface percentage, road 6, impervious: 7\n",
    "        imper_per = (np.count_nonzero(outLU_image == 7) + np.count_nonzero(outLU_image == 6))/np.count_nonzero(outLU_image)\n",
    "        \n",
    "        # canopy cover\n",
    "        vegcov = np.count_nonzero(outLU_image == 1)/np.count_nonzero(outLU_image)\n",
    "        \n",
    "        print('vegcov, chm, bdHt, imper', vegcov, mean_chm, mean_ndsm, imper_per)\n",
    "        #props['mrt'] = mean_val\n",
    "        props['vegcov'] = vegcov\n",
    "        props['chm'] = mean_chm\n",
    "        props['bdHt'] = mean_ndsm\n",
    "        props['imper'] = imper_per\n",
    "                \n",
    "        output.write({'properties': props,\n",
    "                      'geometry': geom\n",
    "                     })\n"
   ]
  },
  {
   "cell_type": "code",
   "execution_count": null,
   "metadata": {},
   "outputs": [],
   "source": []
  }
 ],
 "metadata": {
  "kernelspec": {
   "display_name": "Python 3",
   "language": "python",
   "name": "python3"
  },
  "language_info": {
   "codemirror_mode": {
    "name": "ipython",
    "version": 3
   },
   "file_extension": ".py",
   "mimetype": "text/x-python",
   "name": "python",
   "nbconvert_exporter": "python",
   "pygments_lexer": "ipython3",
   "version": "3.7.7"
  }
 },
 "nbformat": 4,
 "nbformat_minor": 4
}
