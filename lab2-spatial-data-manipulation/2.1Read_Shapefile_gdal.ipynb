{
 "cells": [
  {
   "cell_type": "markdown",
   "metadata": {},
   "source": [
    "## This part is used read the shapefile using gdal\n",
    "GDAL is free, light, and open source, and it is available on Linux\n",
    "knowing how to use gdal to manipute the spatial data will give you \n",
    "a lot of flexibility in spatial analysis. "
   ]
  },
  {
   "cell_type": "markdown",
   "metadata": {},
   "source": [
    "### Print the field names of shapefile"
   ]
  },
  {
   "cell_type": "code",
   "execution_count": 30,
   "metadata": {},
   "outputs": [
    {
     "name": "stdout",
     "output_type": "stream",
     "text": [
      "['STATEFP', 'COUNTYFP', 'TRACTCE', 'GEOID', 'NAME_x', 'NAMELSAD', 'MTFCC', 'FUNCSTAT', 'ALAND', 'AWATER', 'INTPTLAT', 'INTPTLON', 'NAME_y', 'GEO_ID', 'white_popu', 'non-hispan', 'black_popu', 'asian_popu', 'hispanic_p', 'total_popu', 'median_hou', 'per_capita', 'built_age', 'less_highs', 'bachelor', 'totaleduca', 'male_und18', 'female_und', 'male65_66', 'male67_69', 'male70_74', 'male75_79', 'male80_84', 'male85_', 'fema_65_66', 'fema_67_69', 'fema70_74', 'fema75_79', 'fema80_84', 'fema85_', 'state', 'county', 'tract']\n"
     ]
    }
   ],
   "source": [
    "import ogr\n",
    "\n",
    "source = ogr.Open(tract_shp)\n",
    "layer = source.GetLayer()\n",
    "schema = []\n",
    "ldefn = layer.GetLayerDefn()\n",
    "\n",
    "for n in range(ldefn.GetFieldCount()):\n",
    "    fdefn = ldefn.GetFieldDefn(n)\n",
    "    schema.append(fdefn.name)\n",
    "print (schema)\n"
   ]
  },
  {
   "cell_type": "code",
   "execution_count": null,
   "metadata": {},
   "outputs": [],
   "source": []
  },
  {
   "cell_type": "markdown",
   "metadata": {},
   "source": [
    "### Print the field attribute value of shapefile"
   ]
  },
  {
   "cell_type": "code",
   "execution_count": 28,
   "metadata": {},
   "outputs": [],
   "source": [
    "# This function is used to read the features and attribute of shapefile using gdal\n",
    "import ogr, osr\n",
    "import os, os.path\n",
    "\n",
    "# the shapefile of the census tract\n",
    "tract_shp = '../data/census-tract-data.shp'\n",
    "\n",
    "# open shapefile and loop all features\n",
    "driver = ogr.GetDriverByName(\"ESRI Shapefile\")\n",
    "datasource = driver.Open(coffee_shop, 0)\n",
    "layer = datasource.GetLayer()\n",
    "\n",
    "for feat in layer:\n",
    "    geoid = feat.GetField('GEOID')\n",
    "    print('The geoid is:', geoid)\n",
    "    \n",
    "    geom = feat.GetGeometryRef()\n",
    "    print (geom.Centroid().ExportToWkt()) #the centroid of the polygon\n",
    "    print (geom.ExportToWkt())  #the bound of the polygon\n",
    "    "
   ]
  },
  {
   "cell_type": "code",
   "execution_count": null,
   "metadata": {},
   "outputs": [],
   "source": []
  },
  {
   "cell_type": "code",
   "execution_count": null,
   "metadata": {},
   "outputs": [],
   "source": []
  }
 ],
 "metadata": {
  "kernelspec": {
   "display_name": "Python 3",
   "language": "python",
   "name": "python3"
  },
  "language_info": {
   "codemirror_mode": {
    "name": "ipython",
    "version": 3
   },
   "file_extension": ".py",
   "mimetype": "text/x-python",
   "name": "python",
   "nbconvert_exporter": "python",
   "pygments_lexer": "ipython3",
   "version": "3.7.7"
  }
 },
 "nbformat": 4,
 "nbformat_minor": 2
}
