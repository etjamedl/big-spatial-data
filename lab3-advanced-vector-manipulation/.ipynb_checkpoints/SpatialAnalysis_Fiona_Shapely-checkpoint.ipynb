{
 "cells": [
  {
   "cell_type": "markdown",
   "metadata": {},
   "source": [
    "## Using Fiona to manipuate shapefiles and do spatial analysis\n",
    "Fiona is an excellant tool for spatial manipulation. This session show you how to use fiona to read shapefile and metadata, use Shapely and Fiona to do spatial analysis, and and write shapefiles. These libraries are essentially wrappers for GEOS and OGR, respectively, which provide clean, Pythonic interfaces for performing the processing, while still keeping the performance capabilities of the underlying libraries.\n",
    "\n",
    "Fiona is used for reading and writing vector files (here we’re using Shapefiles), while Shapely is used for doing the manipulation and analysis of the geometric objects.\n",
    "\n",
    "This session will include some major sections, \n",
    "\n",
    "1. Read metadata, attributes, geometry of features in shapfile using fiona\n",
    "\n",
    "1. Create shapefile based on the longitude and latitude \n",
    "\n",
    "1. Convert the projection of shapefiles using pyproj\n",
    "\n",
    "1. Do buffer analysis using fiona+shapely\n",
    "\n",
    "1. Do intersection of point feature class and polygon feature class\n",
    "\n",
    "References:\n",
    "\n",
    "Pandas Tutorial, https://www.datacamp.com/community/tutorials/pandas-tutorial-dataframe-python\n",
    "\n",
    "Fiona Manual, http://toblerity.org/fiona/manual.html\n",
    "\n",
    "Shapely Manual, http://toblerity.org/shapely/manual.html\n",
    "\n",
    "\n",
    "AZAVEA Research Blog, Using Shapely and Fiona to Locate High-Risk Traffic Areas, https://www.azavea.com/blog/2016/10/05/philippines-road-safety-using-shapely-fiona-locate-high-risk-traffic-areas/\n"
   ]
  },
  {
   "cell_type": "markdown",
   "metadata": {},
   "source": [
    "### 1. Read the metadata of shapefiles using fiona"
   ]
  },
  {
   "cell_type": "code",
   "execution_count": 216,
   "metadata": {
    "scrolled": false
   },
   "outputs": [],
   "source": [
    "# get the meta data of shapefile, such as spatial reference, field names, etc\n",
    "import fiona\n",
    "from fiona.crs import to_string\n",
    "from shapely.geometry import mapping, shape\n",
    "\n",
    "\n",
    "census_shp = 'data/philadelphia-census-tract.shp'\n",
    "\n",
    "with fiona.open(census_shp, 'r') as nb_lyr:\n",
    "    driver = nb_lyr.driver # the driver of the shapefile\n",
    "    schema = nb_lyr.schema  #schema of shapefile\n",
    "    crs = nb_lyr.crs   # coordinate reference system of the shapefile\n",
    "    meta = nb_lyr.meta # more details about the metadata of the shapefile\n",
    "    "
   ]
  },
  {
   "cell_type": "code",
   "execution_count": null,
   "metadata": {},
   "outputs": [],
   "source": []
  },
  {
   "cell_type": "markdown",
   "metadata": {},
   "source": [
    "Let's take a look at what those metadata look like"
   ]
  },
  {
   "cell_type": "code",
   "execution_count": 217,
   "metadata": {
    "scrolled": false
   },
   "outputs": [
    {
     "name": "stdout",
     "output_type": "stream",
     "text": [
      "The driver is: ESRI Shapefile\n",
      "The schema is: {'properties': OrderedDict([('STATEFP', 'str:80'), ('COUNTYFP', 'str:80'), ('TRACTCE', 'str:80'), ('GEOID', 'str:80'), ('NAME_x', 'str:80'), ('NAMELSAD', 'str:80'), ('MTFCC', 'str:80'), ('FUNCSTAT', 'str:80'), ('ALAND', 'int:18'), ('AWATER', 'int:18'), ('INTPTLAT', 'str:80'), ('INTPTLON', 'str:80'), ('NAME_y', 'str:80'), ('GEO_ID', 'str:80'), ('white_popu', 'str:80'), ('non-hispan', 'str:80'), ('black_popu', 'str:80'), ('asian_popu', 'str:80'), ('hispanic_p', 'str:80'), ('total_popu', 'str:80'), ('median_hou', 'str:80'), ('per_capita', 'str:80'), ('built_age', 'str:80'), ('less_highs', 'str:80'), ('bachelor', 'str:80'), ('totaleduca', 'str:80'), ('male_und18', 'str:80'), ('female_und', 'str:80'), ('male65_66', 'str:80'), ('male67_69', 'str:80'), ('male70_74', 'str:80'), ('male75_79', 'str:80'), ('male80_84', 'str:80'), ('male85_', 'str:80'), ('fema_65_66', 'str:80'), ('fema_67_69', 'str:80'), ('fema70_74', 'str:80'), ('fema75_79', 'str:80'), ('fema80_84', 'str:80'), ('fema85_', 'str:80'), ('state', 'str:80'), ('county', 'str:80'), ('tract', 'str:80')]), 'geometry': 'Polygon'}\n",
      "The coordinate reference system is: {'proj': 'lcc', 'lat_0': 39.3333333333333, 'lon_0': -77.75, 'lat_1': 40.9666666666667, 'lat_2': 39.9333333333333, 'x_0': 600000, 'y_0': 0, 'datum': 'NAD83', 'units': 'us-ft', 'no_defs': True}\n",
      "the metadata is: {'driver': 'ESRI Shapefile', 'schema': {'properties': OrderedDict([('STATEFP', 'str:80'), ('COUNTYFP', 'str:80'), ('TRACTCE', 'str:80'), ('GEOID', 'str:80'), ('NAME_x', 'str:80'), ('NAMELSAD', 'str:80'), ('MTFCC', 'str:80'), ('FUNCSTAT', 'str:80'), ('ALAND', 'int:18'), ('AWATER', 'int:18'), ('INTPTLAT', 'str:80'), ('INTPTLON', 'str:80'), ('NAME_y', 'str:80'), ('GEO_ID', 'str:80'), ('white_popu', 'str:80'), ('non-hispan', 'str:80'), ('black_popu', 'str:80'), ('asian_popu', 'str:80'), ('hispanic_p', 'str:80'), ('total_popu', 'str:80'), ('median_hou', 'str:80'), ('per_capita', 'str:80'), ('built_age', 'str:80'), ('less_highs', 'str:80'), ('bachelor', 'str:80'), ('totaleduca', 'str:80'), ('male_und18', 'str:80'), ('female_und', 'str:80'), ('male65_66', 'str:80'), ('male67_69', 'str:80'), ('male70_74', 'str:80'), ('male75_79', 'str:80'), ('male80_84', 'str:80'), ('male85_', 'str:80'), ('fema_65_66', 'str:80'), ('fema_67_69', 'str:80'), ('fema70_74', 'str:80'), ('fema75_79', 'str:80'), ('fema80_84', 'str:80'), ('fema85_', 'str:80'), ('state', 'str:80'), ('county', 'str:80'), ('tract', 'str:80')]), 'geometry': 'Polygon'}, 'crs': {'proj': 'lcc', 'lat_0': 39.3333333333333, 'lon_0': -77.75, 'lat_1': 40.9666666666667, 'lat_2': 39.9333333333333, 'x_0': 600000, 'y_0': 0, 'datum': 'NAD83', 'units': 'us-ft', 'no_defs': True}, 'crs_wkt': 'PROJCS[\"NAD83_Pennsylvania_South_ftUS\",GEOGCS[\"NAD83\",DATUM[\"North_American_Datum_1983\",SPHEROID[\"GRS 1980\",6378137,298.257222101,AUTHORITY[\"EPSG\",\"7019\"]],AUTHORITY[\"EPSG\",\"6269\"]],PRIMEM[\"Greenwich\",0],UNIT[\"Degree\",0.0174532925199433],AUTHORITY[\"EPSG\",\"4269\"]],PROJECTION[\"Lambert_Conformal_Conic_2SP\"],PARAMETER[\"latitude_of_origin\",39.3333333333333],PARAMETER[\"central_meridian\",-77.75],PARAMETER[\"standard_parallel_1\",40.9666666666667],PARAMETER[\"standard_parallel_2\",39.9333333333333],PARAMETER[\"false_easting\",1968500],PARAMETER[\"false_northing\",0],UNIT[\"US survey foot\",0.304800609601219,AUTHORITY[\"EPSG\",\"9003\"]],AXIS[\"Easting\",EAST],AXIS[\"Northing\",NORTH]]'}\n"
     ]
    }
   ],
   "source": [
    "\n",
    "print ('The driver is:', driver)\n",
    "print ('The schema is:', schema)\n",
    "print ('The coordinate reference system is:', crs)\n",
    "print ('the metadata is:', meta)\n"
   ]
  },
  {
   "cell_type": "code",
   "execution_count": 218,
   "metadata": {
    "scrolled": true
   },
   "outputs": [
    {
     "data": {
      "text/plain": [
       "{'proj': 'lcc',\n",
       " 'lat_0': 39.3333333333333,\n",
       " 'lon_0': -77.75,\n",
       " 'lat_1': 40.9666666666667,\n",
       " 'lat_2': 39.9333333333333,\n",
       " 'x_0': 600000,\n",
       " 'y_0': 0,\n",
       " 'datum': 'NAD83',\n",
       " 'units': 'us-ft',\n",
       " 'no_defs': True}"
      ]
     },
     "execution_count": 218,
     "metadata": {},
     "output_type": "execute_result"
    }
   ],
   "source": [
    "crs"
   ]
  },
  {
   "cell_type": "markdown",
   "metadata": {},
   "source": [
    "Let's print the geometry and attribute of the features in shapefile"
   ]
  },
  {
   "cell_type": "code",
   "execution_count": 219,
   "metadata": {},
   "outputs": [],
   "source": [
    "with fiona.open(census_shp, 'r') as nb_lyr:\n",
    "    for feat in nb_lyr:\n",
    "        # attribute of the neighborhood features\n",
    "        attr = feat['properties']\n",
    "        name = attr['TRACTCE']  #you can find other attribute based on the metadata of the shapefile\n",
    "#         print ('The neighborhod is:', name)\n",
    "        \n",
    "        # get the geometry of the polygon feature\n",
    "        geom = feat['geometry']\n",
    "#         print ('geom is:', geom)\n",
    "        "
   ]
  },
  {
   "cell_type": "code",
   "execution_count": null,
   "metadata": {},
   "outputs": [],
   "source": []
  },
  {
   "cell_type": "markdown",
   "metadata": {},
   "source": [
    "We can convert the dictionary `geom` variable into a shapely Polygon object using shapely. Here is one example of using shapely to deal with the geometry of features in shapefile. "
   ]
  },
  {
   "cell_type": "code",
   "execution_count": 220,
   "metadata": {
    "scrolled": true
   },
   "outputs": [
    {
     "data": {
      "image/svg+xml": [
       "<svg xmlns=\"http://www.w3.org/2000/svg\" xmlns:xlink=\"http://www.w3.org/1999/xlink\" width=\"300\" height=\"300\" viewBox=\"2721147.085101643 266557.18039006565 3633.2204230260104 4164.534654340707\" preserveAspectRatio=\"xMinYMin meet\"><g transform=\"matrix(1,0,0,-1,0,537278.895434472)\"><path fill-rule=\"evenodd\" fill=\"#66cc99\" stroke=\"#555555\" stroke-width=\"27.763564362271378\" opacity=\"0.6\" d=\"M 2721301.327125878,268155.08773638634 L 2721478.3376927436,268386.07566040213 L 2721635.9377122056,268592.0551701152 L 2721822.1021691216,268834.98717922805 L 2721907.2433141842,268945.824787368 L 2721971.7888170076,269024.691910777 L 2721985.5290472494,269042.60451999254 L 2722341.615107057,269509.3932479309 L 2722469.000634292,269676.9183261486 L 2722512.0002896804,269736.54259706987 L 2722626.765684852,269895.3011241823 L 2722673.9533205875,269964.52926711214 L 2722764.0279466333,270097.0233493334 L 2722947.7527377815,270345.72136306006 L 2723120.2519587944,270567.4730201715 L 2723127.3926574835,270562.9531697907 L 2723184.8649021997,270524.6183055485 L 2723456.1199023384,270328.444908164 L 2723709.551653503,270156.51253746083 L 2723731.2192284046,270134.9430117638 L 2723939.647823875,269987.5138844709 L 2724163.558448854,269828.53284900717 L 2724626.063500434,269507.01685307734 L 2724603.6706990027,269478.99774898175 L 2724473.573256592,269281.49312949204 L 2724340.843539773,269087.55329859845 L 2724199.74757253,268883.15374397824 L 2724038.1679167724,268643.14136831113 L 2723958.810425898,268526.64170291607 L 2723882.688202232,268414.25018160854 L 2723723.420795178,268180.8708933059 L 2723555.0683003487,267933.00151915324 L 2723475.5596903297,267812.12550365843 L 2723404.5504468526,267706.4519338282 L 2723865.4723224086,267391.7971836718 L 2723717.4855008274,267174.06995332666 L 2723570.8954236982,266956.38636370125 L 2723557.3904596996,266939.937879611 L 2723484.799592339,266830.9357687603 L 2723417.2590770954,266730.83500981284 L 2723402.1635044008,266711.4224143005 L 2722935.1559354994,267023.34904475557 L 2722472.7293526623,267341.61958213686 L 2722009.9214172508,267654.42000667454 L 2721638.38053777,267905.13712277677 L 2721548.9512029416,267971.65816754143 L 2721445.171069189,268040.29350417055 L 2721334.979191171,268117.11635957455 L 2721301.327125878,268155.08773638634 z\" /></g></svg>"
      ],
      "text/plain": [
       "<shapely.geometry.polygon.Polygon at 0x7fda96646750>"
      ]
     },
     "execution_count": 220,
     "metadata": {},
     "output_type": "execute_result"
    }
   ],
   "source": [
    "# the shape is a function in shapely, we import \"from shapely.geometry import shape\"\n",
    "shape(geom)"
   ]
  },
  {
   "cell_type": "markdown",
   "metadata": {},
   "source": [
    "### create a buffer of the shape"
   ]
  },
  {
   "cell_type": "code",
   "execution_count": 221,
   "metadata": {
    "scrolled": true
   },
   "outputs": [
    {
     "data": {
      "image/svg+xml": [
       "<svg xmlns=\"http://www.w3.org/2000/svg\" xmlns:xlink=\"http://www.w3.org/1999/xlink\" width=\"300\" height=\"300\" viewBox=\"2721039.150147308 266449.1875299216 3849.1538731167093 4380.4940424243105\" preserveAspectRatio=\"xMinYMin meet\"><g transform=\"matrix(1,0,0,-1,0,537278.8691022675)\"><path fill-rule=\"evenodd\" fill=\"#66cc99\" stroke=\"#555555\" stroke-width=\"29.20329361616207\" opacity=\"0.6\" d=\"M 2721226.488144701,268088.76182217186 L 2721220.3282381576,268096.44321244734 L 2721214.953601293,268104.69315085676 L 2721210.4163402463,268113.431655728 L 2721206.76044295,268122.5740088247 L 2721204.0213526716,268132.03157667455 L 2721202.2256243997,268141.7126698547 L 2721201.390667398,268151.5234319042 L 2721201.524576424,268161.368749246 L 2721202.626053255,268171.15317329543 L 2721204.68441927,268180.78184581746 L 2721207.6797189796,268190.16141856014 L 2721211.5829134914,268199.2009582493 L 2721216.356162035,268207.8128281699 L 2721221.953188822,268215.91353778896 L 2721398.9408486723,268446.87156955554 L 2721556.517983524,268652.821169623 L 2721742.72837465,268895.8131666934 L 2721742.798795098,268895.90495059645 L 2721827.9399401606,269006.7425587364 L 2721829.8561721537,269009.15906125173 L 2721893.403183154,269086.80614338146 L 2721906.1027035043,269103.3620191751 L 2722262.0609410405,269569.9831865088 L 2722388.633178549,269736.43870503624 L 2722430.892149114,269795.03592603887 L 2722430.9581690673,269795.127362039 L 2722544.913913231,269952.7658738254 L 2722591.28878589,270020.80162647064 L 2722681.3291005087,270153.2452387507 L 2722683.5955747124,270156.44248385425 L 2722867.3203658606,270405.1404975809 L 2722868.821951086,270407.12112618366 L 2723041.321172099,270628.8727832951 L 2723047.725760672,270636.32031921734 L 2723054.8301149756,270643.1035850996 L 2723062.5656889696,270649.15713290905 L 2723070.85784632,270654.4225552644 L 2723079.6265805224,270658.84904897696 L 2723088.787286843,270662.39390522323 L 2723098.251578623,270665.0229216185 L 2723107.928140072,270666.7107322174 L 2723117.7236073273,270667.4410522561 L 2723127.5434692665,270667.2068352747 L 2723137.292979398,270666.0103411052 L 2723146.8780700155,270663.8631140673 L 2723156.2062598076,270660.78587158356 L 2723165.187546158,270656.8083042885 L 2723173.735273534,270651.96878955944 L 2723180.875972223,270647.4489391786 L 2723182.88275244,270646.1448121696 L 2723240.354997156,270607.8099479274 L 2723243.4663646603,270605.6483530462 L 2723513.5042685,270410.3551676976 L 2723765.693036274,270239.26605787274 L 2723773.1754329302,270233.66183876287 L 2723780.101798909,270227.38338466326 L 2723795.8201061394,270211.7362052595 L 2723997.3953463025,270069.1547054705 L 2723997.5411032536,270069.05141081783 L 2724221.0461758603,269910.35832567414 L 2724683.142830775,269589.12623163924 L 2724690.7754200147,269583.25573727826 L 2724697.808006014,269576.6783626726 L 2724704.175383253,269569.45509266254 L 2724709.8185139685,269561.6529007737 L 2724714.6850755475,269553.3441282447 L 2724718.7299456582,269544.60581328534 L 2724721.91562062,269535.51897678524 L 2724724.2125631343,269526.16787109507 L 2724725.599476151,269516.63919884624 L 2724726.063500335,269507.0213090518 L 2724725.6003332944,269497.4033779419 L 2724724.214269473,269487.87458212994 L 2724721.918160334,269478.5232717746 L 2724718.7332951995,269469.4361514048 L 2724714.689203859,269460.69747600344 L 2724709.8233827725,269452.3882698019 L 2724704.1809474067,269444.58557503123 L 2724684.655146305,269420.1538193487 L 2724557.083850733,269226.48421506735 L 2724556.0972312116,269225.01487161394 L 2724423.367514393,269031.07504072034 L 2724423.1402055984,269030.74433104915 L 2724282.3754708027,268826.824618383 L 2724121.121429579,268587.29591448454 L 2724120.815110471,268586.8435764033 L 2724041.532492493,268470.453827126 L 2723965.4848490474,268358.17242063204 L 2723965.287015675,268357.8814312429 L 2723806.0820381967,268124.59362286184 L 2723638.2078417772,267877.428458811 L 2723559.106185407,267757.17113021744 L 2723558.5610819277,267756.3512354626 L 2723542.918642657,267733.07268301444 L 2723921.8536804263,267474.3873917361 L 2723929.6677076016,267468.4715113176 L 2723936.865095336,267461.81912290305 L 2723943.3767079264,267454.4941271148 L 2723949.139996995,267446.56688541727 L 2723954.0996023114,267438.1135442478 L 2723958.2078835624,267429.2153035799 L 2723961.42537797,267419.957636943 L 2723963.7211793563,267410.42947039247 L 2723965.0732350205,267400.72232831543 L 2723965.4685575664,267390.9294542784 L 2723964.9033496575,267381.14491536014 L 2723963.3830404934,267371.46269857546 L 2723960.922233655,267361.97580806655 L 2723957.544566833,267352.77537173685 L 2723953.2824847656,267343.9497659064 L 2723948.1769275917,267335.58376639854 L 2723800.3111954113,267118.03469015885 L 2723653.8414390814,266900.52977472503 L 2723648.1825451176,266892.93007273856 L 2723637.8508402295,266880.346486178 L 2723568.03182114,266775.5065698772 L 2723567.6950175306,266775.00412760535 L 2723500.154502287,266674.9033686579 L 2723496.200432611,266669.44883556076 L 2723481.1048599165,266650.0362400484 L 2723474.5879416494,266642.46807513887 L 2723467.348608858,266635.58771144686 L 2723459.459071964,266629.46377877257 L 2723450.9980270024,266624.15736171784 L 2723442.0498706494,266619.7213903833 L 2723432.7038583877,266616.20011240465 L 2723423.0532142073,266613.6286515945 L 2723413.19420072,266612.03265759134 L 2723403.225158967,266611.4280500114 L 2723393.245527492,266611.82085965475 L 2723383.3548504673,266613.20716834953 L 2723373.6517847697,266615.5731480347 L 2723364.2331159026,266618.8951986914 L 2723355.192792585,266623.1401837467 L 2723346.620989642,266628.2657606022 L 2722879.6134207407,266940.19239105727 L 2722878.460450341,266940.97415803245 L 2722416.382057225,267259.0050497408 L 2721953.954813615,267571.54817411565 L 2721582.4444380878,267822.24470604095 L 2721578.6973730423,267824.90047374374 L 2721491.484393347,267889.77290668205 L 2721390.0082439496,267956.88449559466 L 2721387.9805521443,267958.2615301594 L 2721277.7886741264,268035.0843855634 L 2721268.498989767,268042.4143996187 L 2721260.140209994,268050.79044536006 L 2721226.488144701,268088.76182217186 z\" /></g></svg>"
      ],
      "text/plain": [
       "<shapely.geometry.polygon.Polygon at 0x7fdbe78a1b10>"
      ]
     },
     "execution_count": 221,
     "metadata": {},
     "output_type": "execute_result"
    }
   ],
   "source": [
    "buff_geom = shape(geom).buffer(100)\n",
    "buff_geom\n",
    "# mapping(shape(point['geometry']).buffer(5.0))"
   ]
  },
  {
   "cell_type": "code",
   "execution_count": null,
   "metadata": {},
   "outputs": [],
   "source": []
  },
  {
   "cell_type": "markdown",
   "metadata": {},
   "source": [
    "## 2. Create shapefile based on the longitude and latitude information in the csvfile.\n",
    "\n",
    "Using pandas to read the csv file and create shapefile based on the longitude and latitude. Pandas is just like MS Excel, it makes dealing with spreadsheet super easy. Let get started! \n",
    "\n",
    "Reference:\n",
    "\n",
    "https://www.tutorialspoint.com/python_pandas/index.htm\n",
    "\n",
    "https://pandas.pydata.org/pandas-docs/stable/tutorials.html"
   ]
  },
  {
   "cell_type": "code",
   "execution_count": null,
   "metadata": {},
   "outputs": [],
   "source": []
  },
  {
   "cell_type": "markdown",
   "metadata": {},
   "source": [
    "### 2.1 Let first read the csv file into dataframe using pandas\n",
    "\n",
    "Read the csv file using pandas"
   ]
  },
  {
   "cell_type": "code",
   "execution_count": 222,
   "metadata": {},
   "outputs": [],
   "source": [
    "import pandas as pd\n",
    "\n",
    "# read the csv file and create shapefile\n",
    "coffee_shop_csv = 'data/cambridge_coffee_shops.csv'\n",
    "coffee_shop_sheet = pd.read_csv(coffee_shop_csv)\n",
    "# coffee_shop_sheet"
   ]
  },
  {
   "cell_type": "markdown",
   "metadata": {},
   "source": [
    "Print the first 5 records of the dataframe, this will help you know the structure of the dataframe"
   ]
  },
  {
   "cell_type": "code",
   "execution_count": 223,
   "metadata": {
    "scrolled": true
   },
   "outputs": [
    {
     "data": {
      "text/html": [
       "<div>\n",
       "<style scoped>\n",
       "    .dataframe tbody tr th:only-of-type {\n",
       "        vertical-align: middle;\n",
       "    }\n",
       "\n",
       "    .dataframe tbody tr th {\n",
       "        vertical-align: top;\n",
       "    }\n",
       "\n",
       "    .dataframe thead th {\n",
       "        text-align: right;\n",
       "    }\n",
       "</style>\n",
       "<table border=\"1\" class=\"dataframe\">\n",
       "  <thead>\n",
       "    <tr style=\"text-align: right;\">\n",
       "      <th></th>\n",
       "      <th>id</th>\n",
       "      <th>name</th>\n",
       "      <th>address</th>\n",
       "      <th>city</th>\n",
       "      <th>state</th>\n",
       "      <th>zip</th>\n",
       "      <th>lat</th>\n",
       "      <th>lon</th>\n",
       "    </tr>\n",
       "  </thead>\n",
       "  <tbody>\n",
       "    <tr>\n",
       "      <th>0</th>\n",
       "      <td>1</td>\n",
       "      <td>1369 Coffee House</td>\n",
       "      <td>1369 Cambridge St</td>\n",
       "      <td>Cambridge</td>\n",
       "      <td>MA</td>\n",
       "      <td>2139</td>\n",
       "      <td>42.373695</td>\n",
       "      <td>-71.100440</td>\n",
       "    </tr>\n",
       "    <tr>\n",
       "      <th>1</th>\n",
       "      <td>2</td>\n",
       "      <td>1369 Coffee House</td>\n",
       "      <td>757 Massachusetts Ave</td>\n",
       "      <td>Cambridge</td>\n",
       "      <td>MA</td>\n",
       "      <td>2139</td>\n",
       "      <td>42.366432</td>\n",
       "      <td>-71.105430</td>\n",
       "    </tr>\n",
       "    <tr>\n",
       "      <th>2</th>\n",
       "      <td>3</td>\n",
       "      <td>Aceituna Cafe</td>\n",
       "      <td>605 W Kendall St</td>\n",
       "      <td>Cambridge</td>\n",
       "      <td>MA</td>\n",
       "      <td>2142</td>\n",
       "      <td>42.364370</td>\n",
       "      <td>-71.081924</td>\n",
       "    </tr>\n",
       "    <tr>\n",
       "      <th>3</th>\n",
       "      <td>4</td>\n",
       "      <td>Al's Deli Cafe-Cambridge</td>\n",
       "      <td>1354 Massachusetts Ave</td>\n",
       "      <td>Cambridge</td>\n",
       "      <td>MA</td>\n",
       "      <td>2138</td>\n",
       "      <td>42.373238</td>\n",
       "      <td>-71.118340</td>\n",
       "    </tr>\n",
       "    <tr>\n",
       "      <th>4</th>\n",
       "      <td>5</td>\n",
       "      <td>Algiers Coffee House</td>\n",
       "      <td>40 Brattle St # 3</td>\n",
       "      <td>Cambridge</td>\n",
       "      <td>MA</td>\n",
       "      <td>2138</td>\n",
       "      <td>42.373840</td>\n",
       "      <td>-71.121380</td>\n",
       "    </tr>\n",
       "  </tbody>\n",
       "</table>\n",
       "</div>"
      ],
      "text/plain": [
       "   id                      name                 address       city state  \\\n",
       "0   1         1369 Coffee House       1369 Cambridge St  Cambridge    MA   \n",
       "1   2         1369 Coffee House   757 Massachusetts Ave  Cambridge    MA   \n",
       "2   3             Aceituna Cafe        605 W Kendall St  Cambridge    MA   \n",
       "3   4  Al's Deli Cafe-Cambridge  1354 Massachusetts Ave  Cambridge    MA   \n",
       "4   5      Algiers Coffee House       40 Brattle St # 3  Cambridge    MA   \n",
       "\n",
       "    zip        lat        lon  \n",
       "0  2139  42.373695 -71.100440  \n",
       "1  2139  42.366432 -71.105430  \n",
       "2  2142  42.364370 -71.081924  \n",
       "3  2138  42.373238 -71.118340  \n",
       "4  2138  42.373840 -71.121380  "
      ]
     },
     "execution_count": 223,
     "metadata": {},
     "output_type": "execute_result"
    }
   ],
   "source": [
    "# this will print the first 10 records of the data frame\n",
    "coffee_shop_sheet.head()"
   ]
  },
  {
   "cell_type": "code",
   "execution_count": null,
   "metadata": {},
   "outputs": [],
   "source": []
  },
  {
   "cell_type": "markdown",
   "metadata": {},
   "source": [
    "We can create a shapefile easily using Geopandas"
   ]
  },
  {
   "cell_type": "code",
   "execution_count": 224,
   "metadata": {},
   "outputs": [
    {
     "name": "stderr",
     "output_type": "stream",
     "text": [
      "/Users/xiaojiang/anaconda3/envs/geospatial/lib/python3.7/site-packages/pyproj/crs/crs.py:53: FutureWarning: '+init=<authority>:<code>' syntax is deprecated. '<authority>:<code>' is the preferred initialization method. When making the change, be mindful of axis order changes: https://pyproj4.github.io/pyproj/stable/gotchas.html#axis-order-changes-in-proj-6\n",
      "  return _prepare_from_string(\" \".join(pjargs))\n"
     ]
    }
   ],
   "source": [
    "from geopandas import GeoDataFrame as gdf\n",
    "import geopandas as gpd\n",
    "import pandas as pd\n",
    "\n",
    "crs = {'init': 'epsg:4326'} #http://www.spatialreference.org/ref/epsg/2263/\n",
    "# crs = {'epsg': 4326} #http://www.spatialreference.org/ref/epsg/2263/\n",
    "\n",
    "# create a geo-dataframe\n",
    "points_gdf= gdf(coffee_shop_sheet, crs=crs, \\\n",
    "                geometry=gpd.points_from_xy(coffee_shop_sheet.lon, coffee_shop_sheet.lat))\n",
    "\n",
    "# save the geo-dataframe as a shapefile\n",
    "points_gdf.to_file(\"data/coffe_shop.shp\")\n"
   ]
  },
  {
   "cell_type": "code",
   "execution_count": null,
   "metadata": {},
   "outputs": [],
   "source": []
  },
  {
   "cell_type": "markdown",
   "metadata": {},
   "source": [
    "create a shapefile using `Fiona` based on the coordinate and attributes information in the csv file\n"
   ]
  },
  {
   "cell_type": "code",
   "execution_count": 225,
   "metadata": {
    "scrolled": true
   },
   "outputs": [
    {
     "name": "stdout",
     "output_type": "stream",
     "text": [
      "You have export the shapefile successfully\n"
     ]
    }
   ],
   "source": [
    "from shapely.geometry import Point, mapping\n",
    "\n",
    "# prepare the schema and crs of the output shapefile\n",
    "schema = {\n",
    "    'geometry': 'Point',\n",
    "    'properties': {\n",
    "        'id': 'str: 20',\n",
    "        'name': 'str: 20',\n",
    "        'address': 'str: 20',\n",
    "        'city': 'str: 20',\n",
    "        'state':'str: 20',\n",
    "        'zip': 'str: 7'\n",
    "    }\n",
    "}\n",
    "\n",
    "crs = {'init': u'epsg:4326'}\n",
    "\n",
    "# The output shapefile\n",
    "coffee_shop_shp = 'data/cambridge_coffee_shops2.shp' \n",
    "\n",
    "with fiona.open(coffee_shop_shp, 'w', driver = \"ESRI Shapefile\", crs = crs, schema=schema) as output:\n",
    "    for row in coffee_shop_sheet.iterrows():\n",
    "        lon = row[1][7]\n",
    "        lat = row[1][6]\n",
    "        \n",
    "        id_ = row[1][0]\n",
    "        name = row[1][1]\n",
    "        address = row[1][2]\n",
    "        city = row[1][3]\n",
    "        state = row[1][4]\n",
    "        zipcode = row[1][5]\n",
    "        \n",
    "        point = Point(float(lon), float(lat))\n",
    "        output.write({'properties':{'id': id_,\n",
    "                                    'name': name,\n",
    "                                    'address': address,\n",
    "                                    'city': city,\n",
    "                                    'state': state,\n",
    "                                    'zip': zipcode\n",
    "                                    },\n",
    "                      'geometry': mapping(point)\n",
    "                     })\n",
    "        \n",
    "print ('You have export the shapefile successfully')\n"
   ]
  },
  {
   "cell_type": "code",
   "execution_count": null,
   "metadata": {},
   "outputs": [],
   "source": []
  },
  {
   "cell_type": "markdown",
   "metadata": {},
   "source": [
    "### 2.2 Change the projection of the point shapefile\n",
    "\n",
    "We will use Pyproj to change the projection of the shapefile"
   ]
  },
  {
   "cell_type": "code",
   "execution_count": 226,
   "metadata": {},
   "outputs": [
    {
     "data": {
      "text/plain": [
       "(40.7375927762448, -77.26199234360791)"
      ]
     },
     "execution_count": 226,
     "metadata": {},
     "output_type": "execute_result"
    }
   ],
   "source": [
    "import numpy as np\n",
    "from pyproj import Transformer, transform\n",
    "\n",
    "\n",
    "transformer = Transformer.from_crs(2263, 4326)\n",
    "\n",
    "x_coords = 80481\n",
    "y_coords = 224831\n",
    "\n",
    "transformer = Transformer.from_crs(2263, 4326)\n",
    "transformer.transform(x_coords, y_coords)"
   ]
  },
  {
   "cell_type": "code",
   "execution_count": null,
   "metadata": {},
   "outputs": [],
   "source": []
  },
  {
   "cell_type": "markdown",
   "metadata": {},
   "source": [
    "### 2.3. Convert the shapefile in a local projection of Massachusetts, unit is feet\n",
    "The epsg code of Massachusetts is 6492. For more information about the projection and the epsg code can be find here, http://spatialreference.org/ref/epsg/?search=massachusetts&srtext=Search"
   ]
  },
  {
   "cell_type": "code",
   "execution_count": 227,
   "metadata": {},
   "outputs": [
    {
     "name": "stdout",
     "output_type": "stream",
     "text": [
      "(-71.10044, 42.373695)\n",
      "(-71.10543, 42.366432)\n",
      "(-71.081924, 42.36437)\n",
      "(-71.11834, 42.373238)\n",
      "(-71.12138, 42.37384)\n",
      "(-71.091286, 42.36342)\n",
      "(-71.08601999999999, 42.363409999999995)\n",
      "(-71.14083000000001, 42.387756)\n",
      "(-71.090858, 42.366606)\n",
      "(-71.12066999999999, 42.37198)\n",
      "(-71.11313, 42.374096)\n",
      "(-71.12708, 42.39454)\n",
      "(-71.1157, 42.371604999999995)\n",
      "(-71.11851, 42.38885)\n",
      "(-71.09102, 42.37246)\n",
      "(-71.099236, 42.362759999999994)\n",
      "(-71.12187, 42.375237)\n",
      "(-71.121185, 42.37364)\n",
      "(-71.11014, 42.368959999999994)\n",
      "(-71.12071999999999, 42.374268)\n",
      "(-71.124954, 42.37409)\n",
      "(-71.1095, 42.374846999999995)\n",
      "(-71.08830999999999, 42.36659)\n",
      "(-71.08261999999999, 42.361999999999995)\n",
      "(-71.11891999999999, 42.38863)\n",
      "(-71.07671500000001, 42.36858)\n",
      "(-71.093704, 42.372818)\n",
      "(-71.11140999999999, 42.369423)\n",
      "(-71.14296999999999, 42.389206)\n",
      "(-71.094, 42.36653)\n",
      "(-71.13211, 42.398865)\n",
      "(-71.07953, 42.37242)\n",
      "(-71.14183, 42.39465)\n",
      "(-71.1415, 42.387127)\n",
      "(-71.12106, 42.37413)\n",
      "(-71.10325, 42.365105)\n",
      "(-71.12099, 42.371624)\n",
      "(-71.11589000000001, 42.36088)\n",
      "(-71.0942, 42.359676)\n",
      "(-71.12099, 42.371624)\n",
      "(-71.10432, 42.370616999999996)\n",
      "(-71.09360500000001, 42.366386)\n",
      "(-71.13474000000001, 42.402266999999995)\n",
      "(-71.114914, 42.37314)\n",
      "(-71.14265, 42.38961)\n",
      "(-71.1415, 42.387127)\n",
      "(-71.09360500000001, 42.366386)\n",
      "(-71.10064, 42.36359)\n",
      "(-71.10082, 42.363686)\n",
      "(-71.07228, 42.36886)\n",
      "(-71.088774, 42.362997)\n",
      "(-71.097305, 42.361603)\n",
      "(-71.120735, 42.3728)\n",
      "(-71.08598, 42.366653)\n",
      "(-71.11726, 42.371063)\n",
      "(-71.0835, 42.371494)\n",
      "(-71.11069499999999, 42.369167)\n",
      "(-71.13006, 42.397156)\n",
      "(-71.076121, 42.367463)\n",
      "(-71.10289, 42.366170000000004)\n",
      "(-71.118866, 42.373714)\n",
      "(-71.087937, 42.363893)\n",
      "(-71.14286, 42.38805)\n",
      "(-71.12038000000001, 42.374393)\n",
      "(-71.11998, 42.37278)\n",
      "(-71.11313, 42.374096)\n",
      "(-71.08598, 42.3629)\n",
      "(-71.10389, 42.36553)\n",
      "(-71.120053, 42.381899)\n",
      "(-71.11529499999999, 42.35772)\n",
      "(-71.09108, 42.372467)\n",
      "(-71.08015400000001, 42.371063)\n",
      "(-71.08952, 42.372257)\n",
      "(-71.120834, 42.373253000000005)\n",
      "(-71.0766, 42.367104)\n",
      "(-71.11955, 42.384068)\n",
      "(-71.08952, 42.372257)\n",
      "(-71.128845, 42.39609)\n",
      "(-71.08267, 42.36528)\n",
      "(-71.08914, 42.372208)\n",
      "(-71.119738, 42.384598)\n",
      "(-71.148877, 42.375159000000004)\n",
      "(-71.118901, 42.3873)\n"
     ]
    }
   ],
   "source": [
    "import pyproj\n",
    "from itertools import repeat\n",
    "import sys\n",
    "import time\n",
    "from pyproj import Transformer\n",
    "\n",
    "\n",
    "transformer = Transformer.from_crs(4326, 6492)\n",
    "crs = {'init': 'epsg:6492'}\n",
    "\n",
    "coffee_shop_shp = 'data/cambridge_coffee_shops2.shp' \n",
    "coffee_shop_shp_reproj = 'data/cambridge_coffee_shops2_massproj.shp'    \n",
    "\n",
    "\n",
    "# write the reprojected point feature to shapefile\n",
    "with fiona.open(coffee_shop_shp) as source:\n",
    "    schema = source.schema\n",
    "    \n",
    "    with fiona.open(coffee_shop_shp_reproj, 'w', driver=source.driver, crs=crs,schema=schema) as dest:\n",
    "        for feat in source:\n",
    "            feat_geom = feat['geometry']\n",
    "            data = feat['properties']\n",
    "            coordinates = feat_geom['coordinates']\n",
    "            print(coordinates)\n",
    "            \n",
    "            # Transform the coordinates of every ring.\n",
    "            reprojCoords = transformer.transform(coordinates[1], coordinates[0])\n",
    "            \n",
    "            # copy the geom object, but update the reprojected coordinate\n",
    "            reproj_geom = feat_geom\n",
    "            reproj_geom['coordinates'] = reprojCoords\n",
    "            \n",
    "            dest.write({'geometry': mapping(shape(reproj_geom)),'properties': data})\n",
    "            "
   ]
  },
  {
   "cell_type": "code",
   "execution_count": null,
   "metadata": {},
   "outputs": [],
   "source": []
  },
  {
   "cell_type": "markdown",
   "metadata": {},
   "source": [
    "### Reproject the traffic accident shapefile\n",
    "Here are a few tricks to try out if you want to optimize your transformations.\n",
    "https://pyproj4.github.io/pyproj/stable/advanced_examples.html#optimize-transformations"
   ]
  },
  {
   "cell_type": "code",
   "execution_count": 228,
   "metadata": {},
   "outputs": [
    {
     "name": "stdout",
     "output_type": "stream",
     "text": [
      "4.964483022689819\n"
     ]
    }
   ],
   "source": [
    "import time\n",
    "\n",
    "t0 = time.time()\n",
    "traffic_accident = 'data/crash_data_collision_crash_2007_2017.shp'\n",
    "\n",
    "layer = fiona.open(traffic_accident)\n",
    "crs = layer.crs\n",
    "schema = layer.schema\n",
    "\n",
    "for feat in layer:\n",
    "    feat_geom = feat['geometry']\n",
    "    coordinates = feat_geom['coordinates']\n",
    "\n",
    "print(time.time() - t0)"
   ]
  },
  {
   "cell_type": "code",
   "execution_count": null,
   "metadata": {},
   "outputs": [],
   "source": []
  },
  {
   "cell_type": "markdown",
   "metadata": {},
   "source": [
    "Check the coordinate reference system of the shapefile"
   ]
  },
  {
   "cell_type": "markdown",
   "metadata": {},
   "source": [
    "### Convert the car crash shapefile projection to the same project with the census tract"
   ]
  },
  {
   "cell_type": "code",
   "execution_count": null,
   "metadata": {},
   "outputs": [],
   "source": [
    "import pyproj\n",
    "from itertools import repeat\n",
    "import sys\n",
    "import time\n",
    "from pyproj import Transformer\n",
    "\n",
    "# the name of the ouput reprojected shapefile\n",
    "trafficAccident_reproj = 'data/crash_data_collision_crash_2007_2017_reproj.shp'\n",
    "transformer = Transformer.from_crs(4326, 2272)\n",
    "\n",
    "# write the reprojected point feature to shapefile\n",
    "with fiona.open(traffic_accident) as source:\n",
    "    crs={'init': 'epsg:2272'}\n",
    "    schema = source.schema\n",
    "    \n",
    "    with fiona.open(trafficAccident_reproj, 'w', driver=source.driver, \\\n",
    "                    crs=crs,schema=schema) as dest:\n",
    "        for feat in source:\n",
    "            feat_geom = feat['geometry']\n",
    "            data = feat['properties']\n",
    "            \n",
    "            coordinates = feat_geom['coordinates']\n",
    "            #print(coordinates)\n",
    "            # Transform the coordinates of every ring.\n",
    "            reprojCoords = transformer.transform(coordinates[1], coordinates[0])\n",
    "            \n",
    "            reproj_geom = feat_geom\n",
    "            reproj_geom['coordinates'] = reprojCoords\n",
    "            \n",
    "            dest.write({'geometry': mapping(shape(reproj_geom)),'properties': data})"
   ]
  },
  {
   "cell_type": "code",
   "execution_count": null,
   "metadata": {},
   "outputs": [],
   "source": []
  },
  {
   "cell_type": "markdown",
   "metadata": {},
   "source": [
    "You may find it slower than GeoPandas, this is because we use `for loop` here and do the transform one by one. There are several tricks to increase the efficiency, like use numpy array. In this class, we are not going to increase the efficiency here. If you interested, you can also check the implementation in GeoPandas. https://github.com/geopandas/geopandas"
   ]
  },
  {
   "cell_type": "code",
   "execution_count": null,
   "metadata": {},
   "outputs": [],
   "source": []
  },
  {
   "cell_type": "markdown",
   "metadata": {},
   "source": [
    "## 3. R-tree for overlay of two shapefile\n",
    "\n",
    "The core idea behind the `R-tree` is to form a tree-like data structure where nearby objects are grouped together, and their geographical extent (minimum bounding box) is inserted into the data structure (i.e. R-tree). This bounding box then represents the whole group of geometries as one level (typically called as “page” or “node”) in the data structure.\n"
   ]
  },
  {
   "cell_type": "code",
   "execution_count": null,
   "metadata": {},
   "outputs": [],
   "source": []
  },
  {
   "cell_type": "markdown",
   "metadata": {},
   "source": [
    "#### Build and fill Rtree\n",
    "First step is to build the Rtree on the point feature. If you have question about which shapefile should be used as base for the Rtree, a tip is to use the shapefile has more features."
   ]
  },
  {
   "cell_type": "code",
   "execution_count": null,
   "metadata": {},
   "outputs": [],
   "source": [
    "import rtree\n",
    "import fiona\n",
    "import os, os.path\n",
    "from statistics import median\n",
    "from shapely.geometry import shape\n",
    "from shapely.ops import transform\n",
    "from functools import partial\n",
    "import pyproj\n",
    "import time\n",
    "\n",
    "\n",
    "\n",
    "neighborhood_shp = 'data/philadelphia-census-tract.shp'\n",
    "trafficAccident_reproj = 'data/crash_data_collision_crash_2007_2017_reproj.shp'\n",
    "outPolygonShp = 'data/census-traffic-accident.shp'\n",
    "\n",
    "\n",
    "t0 = time.time()\n",
    "pnt_lyr = fiona.open(trafficAccident_reproj, 'r')     \n",
    "# create an empty spatial index object\n",
    "index = rtree.index.Index()\n",
    "\n",
    "\n",
    "# populate the spatial index, the polygon features\n",
    "i = 0\n",
    "for fid, feature in pnt_lyr.items():\n",
    "    i = i + 1\n",
    "    if i % 10000 == 0: print (i)\n",
    "    geometry = shape(feature['geometry'])\n",
    "    \n",
    "    # add a buffer in order to create a r-tree\n",
    "    geometry_buffered = geometry.buffer(10) \n",
    "    geotype = feature['geometry']['type']\n",
    "    \n",
    "    index.insert(fid, geometry_buffered.bounds)"
   ]
  },
  {
   "cell_type": "code",
   "execution_count": null,
   "metadata": {},
   "outputs": [],
   "source": []
  },
  {
   "cell_type": "markdown",
   "metadata": {},
   "source": [
    "#### Start the overlay based on the built rtree\n",
    "Based on the built Rtree to loop all features in the polygon and calculate the attribute"
   ]
  },
  {
   "cell_type": "code",
   "execution_count": null,
   "metadata": {},
   "outputs": [],
   "source": [
    "# loop all polygons and assign GVI values\n",
    "with fiona.open(neighborhood_shp, 'r') as polygon_lyr:\n",
    "    schema = polygon_lyr.schema.copy()\n",
    "    schema['properties']['AcciNum']='float' \n",
    "    input_crs = polygon_lyr.crs\n",
    "    \n",
    "    # write the intersected point into the new shapefile\n",
    "    with fiona.open(outPolygonShp, 'w', 'ESRI Shapefile', schema, input_crs) as output:\n",
    "        \n",
    "        # loop the polygon feature\n",
    "        for idx, featPoly in enumerate(polygon_lyr):\n",
    "            print('Polygon:', idx)\n",
    "            geomPoly = shape(featPoly['geometry'])                \n",
    "            attriPoly = featPoly['properties']\n",
    "            \n",
    "            # using the bounding box to find the close but may not intersected point feature\n",
    "            fids = [int(i) for i in index.intersection(geomPoly.bounds)]\n",
    "\n",
    "            # count the number of accidents\n",
    "            count = 0\n",
    "\n",
    "            # loop all features in bounding box and then judge if they are intersected\n",
    "            for fid in fids:\n",
    "                featPnt = pnt_lyr[fid]\n",
    "                geomPnt = shape(featPnt['geometry'])\n",
    "\n",
    "                # if the point is intersected with the polygon, then save the point feature into the output shapefile\n",
    "                if geomPoly.intersects(geomPnt):\n",
    "                    count = count + 1\n",
    "            \n",
    "            attriPoly['AcciNum']=count\n",
    "            output.write({'geometry': mapping(geomPoly),'properties': attriPoly})\n",
    "            "
   ]
  },
  {
   "cell_type": "code",
   "execution_count": null,
   "metadata": {},
   "outputs": [],
   "source": []
  }
 ],
 "metadata": {
  "kernelspec": {
   "display_name": "Python 3",
   "language": "python",
   "name": "python3"
  },
  "language_info": {
   "codemirror_mode": {
    "name": "ipython",
    "version": 3
   },
   "file_extension": ".py",
   "mimetype": "text/x-python",
   "name": "python",
   "nbconvert_exporter": "python",
   "pygments_lexer": "ipython3",
   "version": "3.7.7"
  }
 },
 "nbformat": 4,
 "nbformat_minor": 2
}
