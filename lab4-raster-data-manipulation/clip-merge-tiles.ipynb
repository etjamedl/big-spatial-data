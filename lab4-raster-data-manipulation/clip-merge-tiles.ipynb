{
 "cells": [
  {
   "cell_type": "markdown",
   "metadata": {},
   "source": [
    "## Clip and merge tif tiles\n",
    "\n",
    "Raster images are usually very large. Therefore, we usually cut a large image into smaller tiles. If we want get the big picture, we usually merge smaller tiles into big one. This notebook includes two sections, clip and merge. "
   ]
  },
  {
   "cell_type": "code",
   "execution_count": null,
   "metadata": {},
   "outputs": [],
   "source": []
  },
  {
   "cell_type": "markdown",
   "metadata": {},
   "source": [
    "### 1. Clip big image into smaller tiles"
   ]
  },
  {
   "cell_type": "code",
   "execution_count": 17,
   "metadata": {},
   "outputs": [],
   "source": [
    "import rasterio\n",
    "import os, os.path\n",
    "from rasterio.windows import Window\n",
    "from rasterio.merge import merge\n"
   ]
  },
  {
   "cell_type": "code",
   "execution_count": 7,
   "metadata": {},
   "outputs": [
    {
     "name": "stdout",
     "output_type": "stream",
     "text": [
      "The i and j is: 0 0\n",
      "The i and j is: 0 1\n",
      "The i and j is: 0 2\n",
      "The i and j is: 0 3\n",
      "The i and j is: 0 4\n",
      "The i and j is: 0 5\n",
      "The i and j is: 0 6\n",
      "The i and j is: 0 7\n",
      "The i and j is: 0 8\n",
      "The i and j is: 1 0\n",
      "The i and j is: 1 1\n",
      "The i and j is: 1 2\n",
      "The i and j is: 1 3\n",
      "The i and j is: 1 4\n",
      "The i and j is: 1 5\n",
      "The i and j is: 1 6\n",
      "The i and j is: 1 7\n",
      "The i and j is: 1 8\n",
      "The i and j is: 2 0\n",
      "The i and j is: 2 1\n",
      "The i and j is: 2 2\n",
      "The i and j is: 2 3\n",
      "The i and j is: 2 4\n",
      "The i and j is: 2 5\n",
      "The i and j is: 2 6\n",
      "The i and j is: 2 7\n",
      "The i and j is: 2 8\n",
      "The i and j is: 3 0\n",
      "The i and j is: 3 1\n",
      "The i and j is: 3 2\n",
      "The i and j is: 3 3\n",
      "The i and j is: 3 4\n",
      "The i and j is: 3 5\n",
      "The i and j is: 3 6\n",
      "The i and j is: 3 7\n",
      "The i and j is: 3 8\n",
      "The i and j is: 4 0\n",
      "The i and j is: 4 1\n",
      "The i and j is: 4 2\n",
      "The i and j is: 4 3\n",
      "The i and j is: 4 4\n",
      "The i and j is: 4 5\n",
      "The i and j is: 4 6\n",
      "The i and j is: 4 7\n",
      "The i and j is: 4 8\n",
      "The i and j is: 5 0\n",
      "The i and j is: 5 1\n",
      "The i and j is: 5 2\n",
      "The i and j is: 5 3\n",
      "The i and j is: 5 4\n",
      "The i and j is: 5 5\n",
      "The i and j is: 5 6\n",
      "The i and j is: 5 7\n",
      "The i and j is: 5 8\n",
      "The i and j is: 6 0\n",
      "The i and j is: 6 1\n",
      "The i and j is: 6 2\n",
      "The i and j is: 6 3\n",
      "The i and j is: 6 4\n",
      "The i and j is: 6 5\n",
      "The i and j is: 6 6\n",
      "The i and j is: 6 7\n",
      "The i and j is: 6 8\n",
      "The i and j is: 7 0\n",
      "The i and j is: 7 1\n",
      "The i and j is: 7 2\n",
      "The i and j is: 7 3\n",
      "The i and j is: 7 4\n",
      "The i and j is: 7 5\n",
      "The i and j is: 7 6\n",
      "The i and j is: 7 7\n",
      "The i and j is: 7 8\n",
      "The i and j is: 8 0\n",
      "The i and j is: 8 1\n",
      "The i and j is: 8 2\n",
      "The i and j is: 8 3\n",
      "The i and j is: 8 4\n",
      "The i and j is: 8 5\n",
      "The i and j is: 8 6\n",
      "The i and j is: 8 7\n",
      "The i and j is: 8 8\n",
      "The i and j is: 9 0\n",
      "The i and j is: 9 1\n",
      "The i and j is: 9 2\n",
      "The i and j is: 9 3\n",
      "The i and j is: 9 4\n",
      "The i and j is: 9 5\n",
      "The i and j is: 9 6\n",
      "The i and j is: 9 7\n",
      "The i and j is: 9 8\n",
      "The i and j is: 10 0\n",
      "The i and j is: 10 1\n",
      "The i and j is: 10 2\n",
      "The i and j is: 10 3\n",
      "The i and j is: 10 4\n",
      "The i and j is: 10 5\n",
      "The i and j is: 10 6\n",
      "The i and j is: 10 7\n",
      "The i and j is: 10 8\n",
      "The i and j is: 11 0\n",
      "The i and j is: 11 1\n",
      "The i and j is: 11 2\n",
      "The i and j is: 11 3\n",
      "The i and j is: 11 4\n",
      "The i and j is: 11 5\n",
      "The i and j is: 11 6\n",
      "The i and j is: 11 7\n",
      "The i and j is: 11 8\n"
     ]
    }
   ],
   "source": [
    "lu_dataset = rasterio.open('cir-naip/pa_m_4007562_ne_18_1_20170910_20171207.tif')\n",
    "outfolder = 'naip-tiles'\n",
    "if not os.path.exists(outfolder):\n",
    "    os.mkdir(outfolder)\n",
    "\n",
    "lu_img = lu_dataset.read()\n",
    "\n",
    "# height and width of the raster\n",
    "height, width = lu_dataset.shape\n",
    "\n",
    "# split the large raser into number of tiles, tile size is 2000*2000\n",
    "tile_width = 600\n",
    "tile_height = 600\n",
    "\n",
    "tile_num_col = int(width/tile_width) + 1\n",
    "tile_num_row = int(height/tile_height) + 1\n",
    "\n",
    "# the output folder\n",
    "if not os.path.exists(outfolder): os.mkdir(outfolder)\n",
    "\n",
    "# create each tile\n",
    "for i in range(tile_num_row - 1):\n",
    "    # loop each column\n",
    "    for j in range(tile_num_col - 1):\n",
    "        print('The i and j is:', i, j)\n",
    "        tilename = os.path.join(outfolder, 'row%s-col%s.tif'%(i, j))\n",
    "        \n",
    "        row_start = i*tile_height\n",
    "        col_start = j*tile_width\n",
    "        row_end = (i + 1)*tile_height\n",
    "        col_end = (j + 1)*tile_width\n",
    "        \n",
    "        # deal with the right boundary\n",
    "        if row_end > height - 1: tile_height = height - row_start\n",
    "        if col_end > width - 1: tile_width = width - col_start\n",
    "        \n",
    "        # window = get_data_window(lu_dataset.read(1, masked=True))\n",
    "        window = Window(col_off=col_start, row_off=row_start, width=tile_width, height=tile_height)\n",
    "        \n",
    "        kwargs = lu_dataset.meta.copy()\n",
    "        kwargs.update({\n",
    "            'height': window.height,\n",
    "            'width': window.width,\n",
    "            'transform': rasterio.windows.transform(window, lu_dataset.transform)})\n",
    "        \n",
    "        with rasterio.open(tilename, 'w', **kwargs) as dst:\n",
    "            dst.write(lu_dataset.read(window=window))\n",
    "        "
   ]
  },
  {
   "cell_type": "code",
   "execution_count": null,
   "metadata": {},
   "outputs": [],
   "source": []
  },
  {
   "cell_type": "code",
   "execution_count": null,
   "metadata": {},
   "outputs": [],
   "source": []
  },
  {
   "cell_type": "markdown",
   "metadata": {},
   "source": [
    "### 2. Merge tiles into big image"
   ]
  },
  {
   "cell_type": "code",
   "execution_count": 11,
   "metadata": {},
   "outputs": [
    {
     "name": "stdout",
     "output_type": "stream",
     "text": [
      "row0-col0.tif   row10-col4.tif  row2-col8.tif   row5-col3.tif   row7-col7.tif\n",
      "row0-col1.tif   row10-col5.tif  row3-col0.tif   row5-col4.tif   row7-col8.tif\n",
      "row0-col2.tif   row10-col6.tif  row3-col1.tif   row5-col5.tif   row8-col0.tif\n",
      "row0-col3.tif   row10-col7.tif  row3-col2.tif   row5-col6.tif   row8-col1.tif\n",
      "row0-col4.tif   row10-col8.tif  row3-col3.tif   row5-col7.tif   row8-col2.tif\n",
      "row0-col5.tif   row11-col0.tif  row3-col4.tif   row5-col8.tif   row8-col3.tif\n",
      "row0-col6.tif   row11-col1.tif  row3-col5.tif   row6-col0.tif   row8-col4.tif\n",
      "row0-col7.tif   row11-col2.tif  row3-col6.tif   row6-col1.tif   row8-col5.tif\n",
      "row0-col8.tif   row11-col3.tif  row3-col7.tif   row6-col2.tif   row8-col6.tif\n",
      "row1-col0.tif   row11-col4.tif  row3-col8.tif   row6-col3.tif   row8-col7.tif\n",
      "row1-col1.tif   row11-col5.tif  row4-col0.tif   row6-col4.tif   row8-col8.tif\n",
      "row1-col2.tif   row11-col6.tif  row4-col1.tif   row6-col5.tif   row9-col0.tif\n",
      "row1-col3.tif   row11-col7.tif  row4-col2.tif   row6-col6.tif   row9-col1.tif\n",
      "row1-col4.tif   row11-col8.tif  row4-col3.tif   row6-col7.tif   row9-col2.tif\n",
      "row1-col5.tif   row2-col0.tif   row4-col4.tif   row6-col8.tif   row9-col3.tif\n",
      "row1-col6.tif   row2-col1.tif   row4-col5.tif   row7-col0.tif   row9-col4.tif\n",
      "row1-col7.tif   row2-col2.tif   row4-col6.tif   row7-col1.tif   row9-col5.tif\n",
      "row1-col8.tif   row2-col3.tif   row4-col7.tif   row7-col2.tif   row9-col6.tif\n",
      "row10-col0.tif  row2-col4.tif   row4-col8.tif   row7-col3.tif   row9-col7.tif\n",
      "row10-col1.tif  row2-col5.tif   row5-col0.tif   row7-col4.tif   row9-col8.tif\n",
      "row10-col2.tif  row2-col6.tif   row5-col1.tif   row7-col5.tif\n",
      "row10-col3.tif  row2-col7.tif   row5-col2.tif   row7-col6.tif\n"
     ]
    }
   ],
   "source": [
    "ls naip-tiles"
   ]
  },
  {
   "cell_type": "code",
   "execution_count": null,
   "metadata": {},
   "outputs": [],
   "source": []
  },
  {
   "cell_type": "code",
   "execution_count": 19,
   "metadata": {},
   "outputs": [
    {
     "name": "stdout",
     "output_type": "stream",
     "text": [
      "The number of mosaiced tiles is-------------: 108\n"
     ]
    }
   ],
   "source": [
    "folder = 'naip-tiles'\n",
    "\n",
    "src_files_to_mosaic = []\n",
    "\n",
    "for file in os.listdir(folder):\n",
    "    if not file.endswith('.tif'): continue\n",
    "    filename = os.path.join(folder, file)\n",
    "    \n",
    "    tile_src = rasterio.open(filename)\n",
    "    src_files_to_mosaic.append(tile_src)\n",
    "\n",
    "print('The number of mosaiced tiles is-------------:', len(src_files_to_mosaic))"
   ]
  },
  {
   "cell_type": "code",
   "execution_count": null,
   "metadata": {},
   "outputs": [],
   "source": []
  },
  {
   "cell_type": "code",
   "execution_count": 20,
   "metadata": {},
   "outputs": [
    {
     "name": "stdout",
     "output_type": "stream",
     "text": [
      "You have mosaiced the results\n",
      "7200 5400\n"
     ]
    }
   ],
   "source": [
    "# the method can be set as min, max..\n",
    "mosaic, out_trans = merge(src_files_to_mosaic) #, method='max'\n",
    "print('You have mosaiced the results')\n",
    "print(mosaic.shape[1], mosaic.shape[2])\n",
    "\n",
    "# Prepare the schema of the output mosacied image\n",
    "out_meta = tile_src.meta.copy()\n",
    "out_meta.update({\"driver\": \"GTiff\",\n",
    "                  \"height\": mosaic.shape[1],\n",
    "                  \"width\": mosaic.shape[2],\n",
    "                  \"transform\": out_trans, \n",
    "                  \"compress\": 'lzw',\n",
    "                  'BIGTIFF': 'YES'\n",
    "                  }\n",
    "               )\n",
    "\n",
    "outfile = 'mosaiced.tif'\n",
    "\n",
    "#out_fp = os.path.join(dirpath, 'atlanta-naip.tif')\n",
    "with rasterio.open(outfile, \"w\", **out_meta) as dest:\n",
    "     dest.write(mosaic)\n",
    "    "
   ]
  },
  {
   "cell_type": "code",
   "execution_count": null,
   "metadata": {},
   "outputs": [],
   "source": []
  }
 ],
 "metadata": {
  "kernelspec": {
   "display_name": "Python 3 (ipykernel)",
   "language": "python",
   "name": "python3"
  },
  "language_info": {
   "codemirror_mode": {
    "name": "ipython",
    "version": 3
   },
   "file_extension": ".py",
   "mimetype": "text/x-python",
   "name": "python",
   "nbconvert_exporter": "python",
   "pygments_lexer": "ipython3",
   "version": "3.10.13"
  }
 },
 "nbformat": 4,
 "nbformat_minor": 4
}
