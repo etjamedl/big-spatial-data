{
 "cells": [
  {
   "cell_type": "markdown",
   "metadata": {},
   "source": [
    "## This script is used to download the NAIP images automatically\n",
    "This script will download the Natural color NAIP images and the false color NAIP images. The script will download the NAIP from a database maintained by Microsoft. We need to download NAIP tiles first before doing any raster based operations, like, mosaci, clip, mask, etc.\n",
    "\n",
    "Modifed by Xiaojiang Li, Temple University on Feb 11, 2022\n",
    "\n",
    "Last updated by Xiaojiang Li, Temple University, Feb 11, 2024"
   ]
  },
  {
   "cell_type": "code",
   "execution_count": null,
   "metadata": {},
   "outputs": [],
   "source": []
  },
  {
   "cell_type": "code",
   "execution_count": 1,
   "metadata": {},
   "outputs": [],
   "source": [
    "## This script is the updated version for the NAIP image downloading\n",
    "## The previous version has been deprecated, since Microsoft Updated\n",
    "## the data storage on Azure and transfered to the Planertory Computer\n",
    "## Last modified by Xiaojiang Li, Temple University, Biometeors June 2, 2022\n",
    "\n",
    "## https://planetarycomputer.microsoft.com/dataset/naip#Example-Notebook\n",
    "\n",
    "import os, os.path\n",
    "from pystac_client import Client\n",
    "import planetary_computer as pc\n",
    "import rioxarray\n",
    "import rasterio as rio\n",
    "import fiona\n",
    "import pyproj\n",
    "from shapely.geometry import shape, Point, Polygon, mapping\n",
    "from functools import partial\n",
    "from shapely.ops import transform\n",
    "import urllib.request\n",
    "import numpy as np\n",
    "import geopandas as gpd\n",
    "import pyproj\n",
    "\n",
    "\n",
    "# Set the environment variable PC_SDK_SUBSCRIPTION_KEY, or set it here.\n",
    "# The Hub sets PC_SDK_SUBSCRIPTION_KEY automatically.\n",
    "pc.settings.set_subscription_key(\"st=2022-06-01T22%3A55%3A32Z&se=2022-06-02T23%3A40%3A32Z&sp=rl&sv=2020-06-12&sr=c&skoid=c85c15d6-d1ae-42d4-af60-e2ca0f81359b&sktid=72f988bf-86f1-41af-91ab-2d7cd011db47&skt=2022-06-02T20%3A23%3A33Z&ske=2022-06-09T20%3A23%3A33Z&sks=b&skv=2020-06-12&sig=U5e1SoZGZqIcunum5BKWcmsVi2bmS1tBsr94LPI%2BLoc%3D\")\n"
   ]
  },
  {
   "cell_type": "code",
   "execution_count": null,
   "metadata": {},
   "outputs": [],
   "source": []
  },
  {
   "cell_type": "code",
   "execution_count": 14,
   "metadata": {},
   "outputs": [],
   "source": [
    "def naip_downloader(shpfile, outfolder, startDate, endDate):\n",
    "    '''This function will use the shapefile as the limit and find the \n",
    "    tiles that overlap with the shapefile and then download those tiles\n",
    "    \n",
    "    Parameters:\n",
    "        shpfile: the shapefile of the city limit\n",
    "        outfolder: the output folder of the NAIP images\n",
    "        startDate: the start date to check the NAIP inventory, year-month-day, 2017-06-01/2017-09-30\n",
    "        endDate: the end date to check the available NAIP year-month-day, 2017-06-01/2017-09-30\n",
    "    '''\n",
    "    \n",
    "    import fiona\n",
    "    \n",
    "    lyr = fiona.open(shpfile)\n",
    "    for feat in lyr:\n",
    "        area_of_interest_city = feat['geometry']\n",
    "        # print(area_of_interest)\n",
    "    \n",
    "    left, bottom, right, top = lyr.bounds\n",
    "    area_of_interest = {\n",
    "        \"type\": \"Polygon\",\n",
    "        \"coordinates\": [\n",
    "            [\n",
    "                [left, bottom],\n",
    "                [right, bottom],\n",
    "                [right, top],\n",
    "                [left, top],\n",
    "                [left, bottom],\n",
    "            ]\n",
    "        ],\n",
    "    }\n",
    "    \n",
    "    print(area_of_interest)\n",
    "    \n",
    "    range_time = startDate + '/' + endDate\n",
    "    print(range_time)\n",
    "    \n",
    "    catalog = Client.open(\"https://planetarycomputer.microsoft.com/api/stac/v1\")\n",
    "    \n",
    "    search_tiles = catalog.search(\n",
    "        collections=[\"naip\"], intersects=area_of_interest, datetime=range_time\n",
    "    )\n",
    "    items_tiles = list(search_tiles.get_items())\n",
    "    print(f\"{len(items_tiles)} Items found in the range %s\"%(range_time))\n",
    "    print(items_tiles)\n",
    "    \n",
    "    ## loop all the intersected tiles and download them all\n",
    "    for item in items_tiles:\n",
    "        # href = pc.sign(item.assets[\"image\"].href)\n",
    "        href = item.assets[\"image\"].href\n",
    "        \n",
    "        outfilename = os.path.join(outfolder, item.id + \".tif\")\n",
    "        urllib.request.urlretrieve(href, outfilename)\n",
    "\n",
    "        ### check if the NAIP tile intersects with the shapefile, if not remove it.\n",
    "        lu_dataset = rio.open(outfilename)\n",
    "        epsgcode = lu_dataset.crs.to_epsg()\n",
    "        lu_bounds = lu_dataset.bounds\n",
    "        lu_box = Polygon([(lu_bounds.left, lu_bounds.bottom), \\\n",
    "                            (lu_bounds.left, lu_bounds.top), \\\n",
    "                            (lu_bounds.right, lu_bounds.top), \\\n",
    "                            (lu_bounds.right, lu_bounds.bottom)])\n",
    "\n",
    "        city_geom = shape(area_of_interest_city)\n",
    "        print('city_geom is:', city_geom)\n",
    "        print(\"The lubox is:\", lu_box)\n",
    "        \n",
    "        project = pyproj.Transformer.from_proj(\n",
    "            pyproj.Proj('epsg:4326'), # source coordinate system\n",
    "            pyproj.Proj('epsg:%s'%(epsgcode)), \n",
    "            always_xy=True) # destination coordinate system\n",
    "        city_geom_proj = transform(project.transform, city_geom)  # apply projection\n",
    "        \n",
    "        ## make sure the projections are consistent\n",
    "        if city_geom_proj.intersects(lu_box):\n",
    "            print(\"intersected :\", outfilename)\n",
    "            r = lu_dataset.read(1) ## start from 1, 2, 3, 4\n",
    "            g = lu_dataset.read(2)\n",
    "            b = lu_dataset.read(3)\n",
    "            ir = lu_dataset.read(4)\n",
    "            #rgb = np.dstack((r,g,b))\n",
    "            cir = np.stack((ir,r,g,b))\n",
    "            \n",
    "            out_meta = lu_dataset.meta.copy()\n",
    "            out_meta.update({'count': 4})\n",
    "            # os.remove(outfilename)\n",
    "            with rio.open(outfilename, \"w\", **out_meta) as dest:\n",
    "                dest.write(cir)\n",
    "        else:\n",
    "            print(\"The CIR is not intersected, remove it=--------\")\n",
    "            os.remove(outfilename)\n",
    "        "
   ]
  },
  {
   "cell_type": "code",
   "execution_count": null,
   "metadata": {},
   "outputs": [],
   "source": [
    "# import geopandas as gpd\n",
    "# df = gpd.read_file('data/city_limit.shp')\n",
    "# df_proj = df.to_crs(epsg=4326)\n",
    "# df_proj.to_file('data/city_limit_4326.shp', driver='ESRI Shapefile')\n"
   ]
  },
  {
   "cell_type": "code",
   "execution_count": null,
   "metadata": {},
   "outputs": [],
   "source": []
  },
  {
   "cell_type": "code",
   "execution_count": 15,
   "metadata": {},
   "outputs": [
    {
     "name": "stdout",
     "output_type": "stream",
     "text": [
      "{'type': 'Polygon', 'coordinates': [[[-75.28030313034645, 39.867465570687145], [-74.9557457320632, 39.867465570687145], [-74.9557457320632, 40.137927528193686], [-75.28030313034645, 40.137927528193686], [-75.28030313034645, 39.867465570687145]]]}\n",
      "2017-06-01/2017-09-30\n"
     ]
    },
    {
     "name": "stderr",
     "output_type": "stream",
     "text": [
      "/Users/tul69181/anaconda3/envs/geospatial/lib/python3.10/site-packages/pystac_client/item_search.py:835: FutureWarning: get_items() is deprecated, use items() instead\n",
      "  warnings.warn(\n"
     ]
    },
    {
     "name": "stdout",
     "output_type": "stream",
     "text": [
      "46 Items found in the range 2017-06-01/2017-09-30\n",
      "[<Item id=pa_m_4007562_se_18_1_20170910_20171207>, <Item id=pa_m_4007562_ne_18_1_20170910_20171207>, <Item id=pa_m_4007554_se_18_1_20170910_20171207>, <Item id=nj_m_4007564_se_18_1_20170824_20171102>, <Item id=nj_m_4007457_sw_18_1_20170824_20171102>, <Item id=nj_m_4007457_nw_18_1_20170824_20171102>, <Item id=nj_m_3907516_nw_18_1_20170809_20171102>, <Item id=nj_m_3907515_ne_18_1_20170809_20171102>, <Item id=nj_m_3907508_sw_18_1_20170809_20171102>, <Item id=nj_m_3907508_nw_18_1_20170809_20171102>, <Item id=nj_m_3907507_se_18_1_20170809_20171102>, <Item id=nj_m_3907507_ne_18_1_20170809_20171102>, <Item id=pa_m_4007556_se_18_1_20170801_20171207>, <Item id=nj_m_3907516_ne_18_1_20170731_20171102>, <Item id=nj_m_3907508_se_18_1_20170731_20171102>, <Item id=nj_m_3907508_ne_18_1_20170731_20171102>, <Item id=nj_m_3907409_nw_18_1_20170731_20171102>, <Item id=nj_m_3907401_sw_18_1_20170731_20171102>, <Item id=nj_m_3907401_nw_18_1_20170731_20171102>, <Item id=nj_m_3907515_nw_18_1_20170730_20171102>, <Item id=nj_m_3907514_ne_18_1_20170730_20171102>, <Item id=nj_m_3907507_sw_18_1_20170730_20171102>, <Item id=pa_m_4007564_se_18_1_20170612_20171207>, <Item id=pa_m_4007564_nw_18_1_20170612_20171207>, <Item id=pa_m_4007564_ne_18_1_20170612_20171207>, <Item id=pa_m_4007563_sw_18_1_20170612_20171207>, <Item id=pa_m_4007563_se_18_1_20170612_20171207>, <Item id=pa_m_4007563_nw_18_1_20170612_20171207>, <Item id=pa_m_4007563_ne_18_1_20170612_20171207>, <Item id=pa_m_4007556_sw_18_1_20170612_20171207>, <Item id=pa_m_4007555_sw_18_1_20170612_20171207>, <Item id=pa_m_4007555_se_18_1_20170612_20171207>, <Item id=pa_m_4007457_sw_18_1_20170612_20171207>, <Item id=pa_m_4007457_nw_18_1_20170612_20171207>, <Item id=pa_m_4007449_sw_18_1_20170612_20171207>, <Item id=pa_m_4007564_sw_18_1_20170611_20171207>, <Item id=pa_m_3907515_nw_18_1_20170611_20171207>, <Item id=pa_m_3907514_ne_18_1_20170611_20171207>, <Item id=pa_m_3907508_nw_18_1_20170611_20171207>, <Item id=pa_m_3907508_ne_18_1_20170611_20171207>, <Item id=pa_m_3907507_sw_18_1_20170611_20171207>, <Item id=pa_m_3907507_se_18_1_20170611_20171207>, <Item id=pa_m_3907507_nw_18_1_20170611_20171207>, <Item id=pa_m_3907507_ne_18_1_20170611_20171207>, <Item id=pa_m_3907506_se_18_1_20170611_20171207>, <Item id=pa_m_3907506_ne_18_1_20170611_20171207>]\n"
     ]
    },
    {
     "ename": "KeyboardInterrupt",
     "evalue": "",
     "output_type": "error",
     "traceback": [
      "\u001b[0;31m---------------------------------------------------------------------------\u001b[0m",
      "\u001b[0;31mKeyboardInterrupt\u001b[0m                         Traceback (most recent call last)",
      "Cell \u001b[0;32mIn[15], line 15\u001b[0m\n\u001b[1;32m     13\u001b[0m startDate \u001b[38;5;241m=\u001b[39m \u001b[38;5;124m'\u001b[39m\u001b[38;5;124m2017-06-01\u001b[39m\u001b[38;5;124m'\u001b[39m\n\u001b[1;32m     14\u001b[0m endDate \u001b[38;5;241m=\u001b[39m \u001b[38;5;124m'\u001b[39m\u001b[38;5;124m2017-09-30\u001b[39m\u001b[38;5;124m'\u001b[39m\n\u001b[0;32m---> 15\u001b[0m \u001b[43mnaip_downloader\u001b[49m\u001b[43m(\u001b[49m\u001b[43mshapefile\u001b[49m\u001b[43m,\u001b[49m\u001b[43m \u001b[49m\u001b[43mcir_naips\u001b[49m\u001b[43m,\u001b[49m\u001b[43m \u001b[49m\u001b[43mstartDate\u001b[49m\u001b[43m,\u001b[49m\u001b[43m \u001b[49m\u001b[43mendDate\u001b[49m\u001b[43m)\u001b[49m\n",
      "Cell \u001b[0;32mIn[14], line 53\u001b[0m, in \u001b[0;36mnaip_downloader\u001b[0;34m(shpfile, outfolder, startDate, endDate)\u001b[0m\n\u001b[1;32m     50\u001b[0m href \u001b[38;5;241m=\u001b[39m item\u001b[38;5;241m.\u001b[39massets[\u001b[38;5;124m\"\u001b[39m\u001b[38;5;124mimage\u001b[39m\u001b[38;5;124m\"\u001b[39m]\u001b[38;5;241m.\u001b[39mhref\n\u001b[1;32m     52\u001b[0m outfilename \u001b[38;5;241m=\u001b[39m os\u001b[38;5;241m.\u001b[39mpath\u001b[38;5;241m.\u001b[39mjoin(outfolder, item\u001b[38;5;241m.\u001b[39mid \u001b[38;5;241m+\u001b[39m \u001b[38;5;124m\"\u001b[39m\u001b[38;5;124m.tif\u001b[39m\u001b[38;5;124m\"\u001b[39m)\n\u001b[0;32m---> 53\u001b[0m \u001b[43murllib\u001b[49m\u001b[38;5;241;43m.\u001b[39;49m\u001b[43mrequest\u001b[49m\u001b[38;5;241;43m.\u001b[39;49m\u001b[43murlretrieve\u001b[49m\u001b[43m(\u001b[49m\u001b[43mhref\u001b[49m\u001b[43m,\u001b[49m\u001b[43m \u001b[49m\u001b[43moutfilename\u001b[49m\u001b[43m)\u001b[49m\n\u001b[1;32m     55\u001b[0m \u001b[38;5;66;03m### check if the NAIP tile intersects with the shapefile, if not remove it.\u001b[39;00m\n\u001b[1;32m     56\u001b[0m lu_dataset \u001b[38;5;241m=\u001b[39m rio\u001b[38;5;241m.\u001b[39mopen(outfilename)\n",
      "File \u001b[0;32m~/anaconda3/envs/geospatial/lib/python3.10/urllib/request.py:270\u001b[0m, in \u001b[0;36murlretrieve\u001b[0;34m(url, filename, reporthook, data)\u001b[0m\n\u001b[1;32m    267\u001b[0m     reporthook(blocknum, bs, size)\n\u001b[1;32m    269\u001b[0m \u001b[38;5;28;01mwhile\u001b[39;00m \u001b[38;5;28;01mTrue\u001b[39;00m:\n\u001b[0;32m--> 270\u001b[0m     block \u001b[38;5;241m=\u001b[39m \u001b[43mfp\u001b[49m\u001b[38;5;241;43m.\u001b[39;49m\u001b[43mread\u001b[49m\u001b[43m(\u001b[49m\u001b[43mbs\u001b[49m\u001b[43m)\u001b[49m\n\u001b[1;32m    271\u001b[0m     \u001b[38;5;28;01mif\u001b[39;00m \u001b[38;5;129;01mnot\u001b[39;00m block:\n\u001b[1;32m    272\u001b[0m         \u001b[38;5;28;01mbreak\u001b[39;00m\n",
      "File \u001b[0;32m~/anaconda3/envs/geospatial/lib/python3.10/http/client.py:466\u001b[0m, in \u001b[0;36mHTTPResponse.read\u001b[0;34m(self, amt)\u001b[0m\n\u001b[1;32m    463\u001b[0m \u001b[38;5;28;01mif\u001b[39;00m \u001b[38;5;28mself\u001b[39m\u001b[38;5;241m.\u001b[39mlength \u001b[38;5;129;01mis\u001b[39;00m \u001b[38;5;129;01mnot\u001b[39;00m \u001b[38;5;28;01mNone\u001b[39;00m \u001b[38;5;129;01mand\u001b[39;00m amt \u001b[38;5;241m>\u001b[39m \u001b[38;5;28mself\u001b[39m\u001b[38;5;241m.\u001b[39mlength:\n\u001b[1;32m    464\u001b[0m     \u001b[38;5;66;03m# clip the read to the \"end of response\"\u001b[39;00m\n\u001b[1;32m    465\u001b[0m     amt \u001b[38;5;241m=\u001b[39m \u001b[38;5;28mself\u001b[39m\u001b[38;5;241m.\u001b[39mlength\n\u001b[0;32m--> 466\u001b[0m s \u001b[38;5;241m=\u001b[39m \u001b[38;5;28;43mself\u001b[39;49m\u001b[38;5;241;43m.\u001b[39;49m\u001b[43mfp\u001b[49m\u001b[38;5;241;43m.\u001b[39;49m\u001b[43mread\u001b[49m\u001b[43m(\u001b[49m\u001b[43mamt\u001b[49m\u001b[43m)\u001b[49m\n\u001b[1;32m    467\u001b[0m \u001b[38;5;28;01mif\u001b[39;00m \u001b[38;5;129;01mnot\u001b[39;00m s \u001b[38;5;129;01mand\u001b[39;00m amt:\n\u001b[1;32m    468\u001b[0m     \u001b[38;5;66;03m# Ideally, we would raise IncompleteRead if the content-length\u001b[39;00m\n\u001b[1;32m    469\u001b[0m     \u001b[38;5;66;03m# wasn't satisfied, but it might break compatibility.\u001b[39;00m\n\u001b[1;32m    470\u001b[0m     \u001b[38;5;28mself\u001b[39m\u001b[38;5;241m.\u001b[39m_close_conn()\n",
      "File \u001b[0;32m~/anaconda3/envs/geospatial/lib/python3.10/socket.py:705\u001b[0m, in \u001b[0;36mSocketIO.readinto\u001b[0;34m(self, b)\u001b[0m\n\u001b[1;32m    703\u001b[0m \u001b[38;5;28;01mwhile\u001b[39;00m \u001b[38;5;28;01mTrue\u001b[39;00m:\n\u001b[1;32m    704\u001b[0m     \u001b[38;5;28;01mtry\u001b[39;00m:\n\u001b[0;32m--> 705\u001b[0m         \u001b[38;5;28;01mreturn\u001b[39;00m \u001b[38;5;28;43mself\u001b[39;49m\u001b[38;5;241;43m.\u001b[39;49m\u001b[43m_sock\u001b[49m\u001b[38;5;241;43m.\u001b[39;49m\u001b[43mrecv_into\u001b[49m\u001b[43m(\u001b[49m\u001b[43mb\u001b[49m\u001b[43m)\u001b[49m\n\u001b[1;32m    706\u001b[0m     \u001b[38;5;28;01mexcept\u001b[39;00m timeout:\n\u001b[1;32m    707\u001b[0m         \u001b[38;5;28mself\u001b[39m\u001b[38;5;241m.\u001b[39m_timeout_occurred \u001b[38;5;241m=\u001b[39m \u001b[38;5;28;01mTrue\u001b[39;00m\n",
      "File \u001b[0;32m~/anaconda3/envs/geospatial/lib/python3.10/ssl.py:1307\u001b[0m, in \u001b[0;36mSSLSocket.recv_into\u001b[0;34m(self, buffer, nbytes, flags)\u001b[0m\n\u001b[1;32m   1303\u001b[0m     \u001b[38;5;28;01mif\u001b[39;00m flags \u001b[38;5;241m!=\u001b[39m \u001b[38;5;241m0\u001b[39m:\n\u001b[1;32m   1304\u001b[0m         \u001b[38;5;28;01mraise\u001b[39;00m \u001b[38;5;167;01mValueError\u001b[39;00m(\n\u001b[1;32m   1305\u001b[0m           \u001b[38;5;124m\"\u001b[39m\u001b[38;5;124mnon-zero flags not allowed in calls to recv_into() on \u001b[39m\u001b[38;5;132;01m%s\u001b[39;00m\u001b[38;5;124m\"\u001b[39m \u001b[38;5;241m%\u001b[39m\n\u001b[1;32m   1306\u001b[0m           \u001b[38;5;28mself\u001b[39m\u001b[38;5;241m.\u001b[39m\u001b[38;5;18m__class__\u001b[39m)\n\u001b[0;32m-> 1307\u001b[0m     \u001b[38;5;28;01mreturn\u001b[39;00m \u001b[38;5;28;43mself\u001b[39;49m\u001b[38;5;241;43m.\u001b[39;49m\u001b[43mread\u001b[49m\u001b[43m(\u001b[49m\u001b[43mnbytes\u001b[49m\u001b[43m,\u001b[49m\u001b[43m \u001b[49m\u001b[43mbuffer\u001b[49m\u001b[43m)\u001b[49m\n\u001b[1;32m   1308\u001b[0m \u001b[38;5;28;01melse\u001b[39;00m:\n\u001b[1;32m   1309\u001b[0m     \u001b[38;5;28;01mreturn\u001b[39;00m \u001b[38;5;28msuper\u001b[39m()\u001b[38;5;241m.\u001b[39mrecv_into(buffer, nbytes, flags)\n",
      "File \u001b[0;32m~/anaconda3/envs/geospatial/lib/python3.10/ssl.py:1163\u001b[0m, in \u001b[0;36mSSLSocket.read\u001b[0;34m(self, len, buffer)\u001b[0m\n\u001b[1;32m   1161\u001b[0m \u001b[38;5;28;01mtry\u001b[39;00m:\n\u001b[1;32m   1162\u001b[0m     \u001b[38;5;28;01mif\u001b[39;00m buffer \u001b[38;5;129;01mis\u001b[39;00m \u001b[38;5;129;01mnot\u001b[39;00m \u001b[38;5;28;01mNone\u001b[39;00m:\n\u001b[0;32m-> 1163\u001b[0m         \u001b[38;5;28;01mreturn\u001b[39;00m \u001b[38;5;28;43mself\u001b[39;49m\u001b[38;5;241;43m.\u001b[39;49m\u001b[43m_sslobj\u001b[49m\u001b[38;5;241;43m.\u001b[39;49m\u001b[43mread\u001b[49m\u001b[43m(\u001b[49m\u001b[38;5;28;43mlen\u001b[39;49m\u001b[43m,\u001b[49m\u001b[43m \u001b[49m\u001b[43mbuffer\u001b[49m\u001b[43m)\u001b[49m\n\u001b[1;32m   1164\u001b[0m     \u001b[38;5;28;01melse\u001b[39;00m:\n\u001b[1;32m   1165\u001b[0m         \u001b[38;5;28;01mreturn\u001b[39;00m \u001b[38;5;28mself\u001b[39m\u001b[38;5;241m.\u001b[39m_sslobj\u001b[38;5;241m.\u001b[39mread(\u001b[38;5;28mlen\u001b[39m)\n",
      "\u001b[0;31mKeyboardInterrupt\u001b[0m: "
     ]
    }
   ],
   "source": [
    "import os, os.path\n",
    "import argparse\n",
    "import geopandas as gpd\n",
    "\n",
    "# make sure the project is wgs84, 4326\n",
    "shapefile = 'data/city_limit_4326.shp'\n",
    "\n",
    "# using the reprojected geom shape to find the corresponding tile\n",
    "cir_naips = 'cir-naip'\n",
    "if not os.path.exists(cir_naips): os.mkdir(cir_naips)\n",
    "\n",
    "# check on GEE, https://developers.google.com/earth-engine/datasets/catalog/USDA_NAIP_DOQQ\n",
    "startDate = '2017-06-01'\n",
    "endDate = '2017-09-30'\n",
    "naip_downloader(shapefile, cir_naips, startDate, endDate)\n"
   ]
  },
  {
   "cell_type": "code",
   "execution_count": null,
   "metadata": {},
   "outputs": [],
   "source": []
  }
 ],
 "metadata": {
  "kernelspec": {
   "display_name": "Python 3 (ipykernel)",
   "language": "python",
   "name": "python3"
  },
  "language_info": {
   "codemirror_mode": {
    "name": "ipython",
    "version": 3
   },
   "file_extension": ".py",
   "mimetype": "text/x-python",
   "name": "python",
   "nbconvert_exporter": "python",
   "pygments_lexer": "ipython3",
   "version": "3.10.13"
  }
 },
 "nbformat": 4,
 "nbformat_minor": 4
}
